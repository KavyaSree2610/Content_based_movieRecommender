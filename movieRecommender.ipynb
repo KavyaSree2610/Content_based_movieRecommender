{
  "nbformat": 4,
  "nbformat_minor": 0,
  "metadata": {
    "colab": {
      "name": "movieRecommender.ipynb",
      "provenance": [],
      "collapsed_sections": []
    },
    "kernelspec": {
      "name": "python3",
      "display_name": "Python 3"
    },
    "language_info": {
      "name": "python"
    }
  },
  "cells": [
    {
      "cell_type": "markdown",
      "source": [
        "Importing the required libraries\n"
      ],
      "metadata": {
        "id": "1hR8693ZWAIj"
      }
    },
    {
      "cell_type": "code",
      "source": [
        "import pandas as pd\n",
        "import numpy as np\n",
        "from sklearn.feature_extraction.text import CountVectorizer\n",
        "from sklearn.feature_extraction.text import TfidfVectorizer\n",
        "from sklearn.metrics.pairwise import cosine_similarity\n",
        "import ast\n",
        "import nltk\n",
        "from nltk.stem.porter import PorterStemmer\n",
        "import pickle"
      ],
      "metadata": {
        "id": "mCwFCWWZWGG3"
      },
      "execution_count": 64,
      "outputs": []
    },
    {
      "cell_type": "markdown",
      "source": [
        "Loading the data files(csv files)"
      ],
      "metadata": {
        "id": "J7NIESNrWRg3"
      }
    },
    {
      "cell_type": "code",
      "source": [
        "movies_data = pd.read_csv('/content/tmdb_5000_movies.csv')\n",
        "credits_data=pd.read_csv('/content/tmdb_5000_credits.csv')"
      ],
      "metadata": {
        "id": "LWm6cuQnWJE0"
      },
      "execution_count": 65,
      "outputs": []
    },
    {
      "cell_type": "markdown",
      "source": [
        "Top 5 rows of the movies_data"
      ],
      "metadata": {
        "id": "2tAfpBfkqn5h"
      }
    },
    {
      "cell_type": "code",
      "source": [
        "movies_data.head()"
      ],
      "metadata": {
        "id": "W9jRWmmzXkD9",
        "colab": {
          "base_uri": "https://localhost:8080/",
          "height": 773
        },
        "outputId": "bf0a4182-044c-4b7e-e8c6-0eddf92ef86a"
      },
      "execution_count": 66,
      "outputs": [
        {
          "output_type": "execute_result",
          "data": {
            "text/plain": [
              "      budget                                             genres  \\\n",
              "0  237000000  [{\"id\": 28, \"name\": \"Action\"}, {\"id\": 12, \"nam...   \n",
              "1  300000000  [{\"id\": 12, \"name\": \"Adventure\"}, {\"id\": 14, \"...   \n",
              "2  245000000  [{\"id\": 28, \"name\": \"Action\"}, {\"id\": 12, \"nam...   \n",
              "3  250000000  [{\"id\": 28, \"name\": \"Action\"}, {\"id\": 80, \"nam...   \n",
              "4  260000000  [{\"id\": 28, \"name\": \"Action\"}, {\"id\": 12, \"nam...   \n",
              "\n",
              "                                       homepage      id  \\\n",
              "0                   http://www.avatarmovie.com/   19995   \n",
              "1  http://disney.go.com/disneypictures/pirates/     285   \n",
              "2   http://www.sonypictures.com/movies/spectre/  206647   \n",
              "3            http://www.thedarkknightrises.com/   49026   \n",
              "4          http://movies.disney.com/john-carter   49529   \n",
              "\n",
              "                                            keywords original_language  \\\n",
              "0  [{\"id\": 1463, \"name\": \"culture clash\"}, {\"id\":...                en   \n",
              "1  [{\"id\": 270, \"name\": \"ocean\"}, {\"id\": 726, \"na...                en   \n",
              "2  [{\"id\": 470, \"name\": \"spy\"}, {\"id\": 818, \"name...                en   \n",
              "3  [{\"id\": 849, \"name\": \"dc comics\"}, {\"id\": 853,...                en   \n",
              "4  [{\"id\": 818, \"name\": \"based on novel\"}, {\"id\":...                en   \n",
              "\n",
              "                             original_title  \\\n",
              "0                                    Avatar   \n",
              "1  Pirates of the Caribbean: At World's End   \n",
              "2                                   Spectre   \n",
              "3                     The Dark Knight Rises   \n",
              "4                               John Carter   \n",
              "\n",
              "                                            overview  popularity  \\\n",
              "0  In the 22nd century, a paraplegic Marine is di...  150.437577   \n",
              "1  Captain Barbossa, long believed to be dead, ha...  139.082615   \n",
              "2  A cryptic message from Bond’s past sends him o...  107.376788   \n",
              "3  Following the death of District Attorney Harve...  112.312950   \n",
              "4  John Carter is a war-weary, former military ca...   43.926995   \n",
              "\n",
              "                                production_companies  \\\n",
              "0  [{\"name\": \"Ingenious Film Partners\", \"id\": 289...   \n",
              "1  [{\"name\": \"Walt Disney Pictures\", \"id\": 2}, {\"...   \n",
              "2  [{\"name\": \"Columbia Pictures\", \"id\": 5}, {\"nam...   \n",
              "3  [{\"name\": \"Legendary Pictures\", \"id\": 923}, {\"...   \n",
              "4        [{\"name\": \"Walt Disney Pictures\", \"id\": 2}]   \n",
              "\n",
              "                                production_countries release_date     revenue  \\\n",
              "0  [{\"iso_3166_1\": \"US\", \"name\": \"United States o...   2009-12-10  2787965087   \n",
              "1  [{\"iso_3166_1\": \"US\", \"name\": \"United States o...   2007-05-19   961000000   \n",
              "2  [{\"iso_3166_1\": \"GB\", \"name\": \"United Kingdom\"...   2015-10-26   880674609   \n",
              "3  [{\"iso_3166_1\": \"US\", \"name\": \"United States o...   2012-07-16  1084939099   \n",
              "4  [{\"iso_3166_1\": \"US\", \"name\": \"United States o...   2012-03-07   284139100   \n",
              "\n",
              "   runtime                                   spoken_languages    status  \\\n",
              "0    162.0  [{\"iso_639_1\": \"en\", \"name\": \"English\"}, {\"iso...  Released   \n",
              "1    169.0           [{\"iso_639_1\": \"en\", \"name\": \"English\"}]  Released   \n",
              "2    148.0  [{\"iso_639_1\": \"fr\", \"name\": \"Fran\\u00e7ais\"},...  Released   \n",
              "3    165.0           [{\"iso_639_1\": \"en\", \"name\": \"English\"}]  Released   \n",
              "4    132.0           [{\"iso_639_1\": \"en\", \"name\": \"English\"}]  Released   \n",
              "\n",
              "                                          tagline  \\\n",
              "0                     Enter the World of Pandora.   \n",
              "1  At the end of the world, the adventure begins.   \n",
              "2                           A Plan No One Escapes   \n",
              "3                                 The Legend Ends   \n",
              "4            Lost in our world, found in another.   \n",
              "\n",
              "                                      title  vote_average  vote_count  \n",
              "0                                    Avatar           7.2       11800  \n",
              "1  Pirates of the Caribbean: At World's End           6.9        4500  \n",
              "2                                   Spectre           6.3        4466  \n",
              "3                     The Dark Knight Rises           7.6        9106  \n",
              "4                               John Carter           6.1        2124  "
            ],
            "text/html": [
              "\n",
              "  <div id=\"df-61fffe50-6e5e-4052-a063-15e26096fbd8\">\n",
              "    <div class=\"colab-df-container\">\n",
              "      <div>\n",
              "<style scoped>\n",
              "    .dataframe tbody tr th:only-of-type {\n",
              "        vertical-align: middle;\n",
              "    }\n",
              "\n",
              "    .dataframe tbody tr th {\n",
              "        vertical-align: top;\n",
              "    }\n",
              "\n",
              "    .dataframe thead th {\n",
              "        text-align: right;\n",
              "    }\n",
              "</style>\n",
              "<table border=\"1\" class=\"dataframe\">\n",
              "  <thead>\n",
              "    <tr style=\"text-align: right;\">\n",
              "      <th></th>\n",
              "      <th>budget</th>\n",
              "      <th>genres</th>\n",
              "      <th>homepage</th>\n",
              "      <th>id</th>\n",
              "      <th>keywords</th>\n",
              "      <th>original_language</th>\n",
              "      <th>original_title</th>\n",
              "      <th>overview</th>\n",
              "      <th>popularity</th>\n",
              "      <th>production_companies</th>\n",
              "      <th>production_countries</th>\n",
              "      <th>release_date</th>\n",
              "      <th>revenue</th>\n",
              "      <th>runtime</th>\n",
              "      <th>spoken_languages</th>\n",
              "      <th>status</th>\n",
              "      <th>tagline</th>\n",
              "      <th>title</th>\n",
              "      <th>vote_average</th>\n",
              "      <th>vote_count</th>\n",
              "    </tr>\n",
              "  </thead>\n",
              "  <tbody>\n",
              "    <tr>\n",
              "      <th>0</th>\n",
              "      <td>237000000</td>\n",
              "      <td>[{\"id\": 28, \"name\": \"Action\"}, {\"id\": 12, \"nam...</td>\n",
              "      <td>http://www.avatarmovie.com/</td>\n",
              "      <td>19995</td>\n",
              "      <td>[{\"id\": 1463, \"name\": \"culture clash\"}, {\"id\":...</td>\n",
              "      <td>en</td>\n",
              "      <td>Avatar</td>\n",
              "      <td>In the 22nd century, a paraplegic Marine is di...</td>\n",
              "      <td>150.437577</td>\n",
              "      <td>[{\"name\": \"Ingenious Film Partners\", \"id\": 289...</td>\n",
              "      <td>[{\"iso_3166_1\": \"US\", \"name\": \"United States o...</td>\n",
              "      <td>2009-12-10</td>\n",
              "      <td>2787965087</td>\n",
              "      <td>162.0</td>\n",
              "      <td>[{\"iso_639_1\": \"en\", \"name\": \"English\"}, {\"iso...</td>\n",
              "      <td>Released</td>\n",
              "      <td>Enter the World of Pandora.</td>\n",
              "      <td>Avatar</td>\n",
              "      <td>7.2</td>\n",
              "      <td>11800</td>\n",
              "    </tr>\n",
              "    <tr>\n",
              "      <th>1</th>\n",
              "      <td>300000000</td>\n",
              "      <td>[{\"id\": 12, \"name\": \"Adventure\"}, {\"id\": 14, \"...</td>\n",
              "      <td>http://disney.go.com/disneypictures/pirates/</td>\n",
              "      <td>285</td>\n",
              "      <td>[{\"id\": 270, \"name\": \"ocean\"}, {\"id\": 726, \"na...</td>\n",
              "      <td>en</td>\n",
              "      <td>Pirates of the Caribbean: At World's End</td>\n",
              "      <td>Captain Barbossa, long believed to be dead, ha...</td>\n",
              "      <td>139.082615</td>\n",
              "      <td>[{\"name\": \"Walt Disney Pictures\", \"id\": 2}, {\"...</td>\n",
              "      <td>[{\"iso_3166_1\": \"US\", \"name\": \"United States o...</td>\n",
              "      <td>2007-05-19</td>\n",
              "      <td>961000000</td>\n",
              "      <td>169.0</td>\n",
              "      <td>[{\"iso_639_1\": \"en\", \"name\": \"English\"}]</td>\n",
              "      <td>Released</td>\n",
              "      <td>At the end of the world, the adventure begins.</td>\n",
              "      <td>Pirates of the Caribbean: At World's End</td>\n",
              "      <td>6.9</td>\n",
              "      <td>4500</td>\n",
              "    </tr>\n",
              "    <tr>\n",
              "      <th>2</th>\n",
              "      <td>245000000</td>\n",
              "      <td>[{\"id\": 28, \"name\": \"Action\"}, {\"id\": 12, \"nam...</td>\n",
              "      <td>http://www.sonypictures.com/movies/spectre/</td>\n",
              "      <td>206647</td>\n",
              "      <td>[{\"id\": 470, \"name\": \"spy\"}, {\"id\": 818, \"name...</td>\n",
              "      <td>en</td>\n",
              "      <td>Spectre</td>\n",
              "      <td>A cryptic message from Bond’s past sends him o...</td>\n",
              "      <td>107.376788</td>\n",
              "      <td>[{\"name\": \"Columbia Pictures\", \"id\": 5}, {\"nam...</td>\n",
              "      <td>[{\"iso_3166_1\": \"GB\", \"name\": \"United Kingdom\"...</td>\n",
              "      <td>2015-10-26</td>\n",
              "      <td>880674609</td>\n",
              "      <td>148.0</td>\n",
              "      <td>[{\"iso_639_1\": \"fr\", \"name\": \"Fran\\u00e7ais\"},...</td>\n",
              "      <td>Released</td>\n",
              "      <td>A Plan No One Escapes</td>\n",
              "      <td>Spectre</td>\n",
              "      <td>6.3</td>\n",
              "      <td>4466</td>\n",
              "    </tr>\n",
              "    <tr>\n",
              "      <th>3</th>\n",
              "      <td>250000000</td>\n",
              "      <td>[{\"id\": 28, \"name\": \"Action\"}, {\"id\": 80, \"nam...</td>\n",
              "      <td>http://www.thedarkknightrises.com/</td>\n",
              "      <td>49026</td>\n",
              "      <td>[{\"id\": 849, \"name\": \"dc comics\"}, {\"id\": 853,...</td>\n",
              "      <td>en</td>\n",
              "      <td>The Dark Knight Rises</td>\n",
              "      <td>Following the death of District Attorney Harve...</td>\n",
              "      <td>112.312950</td>\n",
              "      <td>[{\"name\": \"Legendary Pictures\", \"id\": 923}, {\"...</td>\n",
              "      <td>[{\"iso_3166_1\": \"US\", \"name\": \"United States o...</td>\n",
              "      <td>2012-07-16</td>\n",
              "      <td>1084939099</td>\n",
              "      <td>165.0</td>\n",
              "      <td>[{\"iso_639_1\": \"en\", \"name\": \"English\"}]</td>\n",
              "      <td>Released</td>\n",
              "      <td>The Legend Ends</td>\n",
              "      <td>The Dark Knight Rises</td>\n",
              "      <td>7.6</td>\n",
              "      <td>9106</td>\n",
              "    </tr>\n",
              "    <tr>\n",
              "      <th>4</th>\n",
              "      <td>260000000</td>\n",
              "      <td>[{\"id\": 28, \"name\": \"Action\"}, {\"id\": 12, \"nam...</td>\n",
              "      <td>http://movies.disney.com/john-carter</td>\n",
              "      <td>49529</td>\n",
              "      <td>[{\"id\": 818, \"name\": \"based on novel\"}, {\"id\":...</td>\n",
              "      <td>en</td>\n",
              "      <td>John Carter</td>\n",
              "      <td>John Carter is a war-weary, former military ca...</td>\n",
              "      <td>43.926995</td>\n",
              "      <td>[{\"name\": \"Walt Disney Pictures\", \"id\": 2}]</td>\n",
              "      <td>[{\"iso_3166_1\": \"US\", \"name\": \"United States o...</td>\n",
              "      <td>2012-03-07</td>\n",
              "      <td>284139100</td>\n",
              "      <td>132.0</td>\n",
              "      <td>[{\"iso_639_1\": \"en\", \"name\": \"English\"}]</td>\n",
              "      <td>Released</td>\n",
              "      <td>Lost in our world, found in another.</td>\n",
              "      <td>John Carter</td>\n",
              "      <td>6.1</td>\n",
              "      <td>2124</td>\n",
              "    </tr>\n",
              "  </tbody>\n",
              "</table>\n",
              "</div>\n",
              "      <button class=\"colab-df-convert\" onclick=\"convertToInteractive('df-61fffe50-6e5e-4052-a063-15e26096fbd8')\"\n",
              "              title=\"Convert this dataframe to an interactive table.\"\n",
              "              style=\"display:none;\">\n",
              "        \n",
              "  <svg xmlns=\"http://www.w3.org/2000/svg\" height=\"24px\"viewBox=\"0 0 24 24\"\n",
              "       width=\"24px\">\n",
              "    <path d=\"M0 0h24v24H0V0z\" fill=\"none\"/>\n",
              "    <path d=\"M18.56 5.44l.94 2.06.94-2.06 2.06-.94-2.06-.94-.94-2.06-.94 2.06-2.06.94zm-11 1L8.5 8.5l.94-2.06 2.06-.94-2.06-.94L8.5 2.5l-.94 2.06-2.06.94zm10 10l.94 2.06.94-2.06 2.06-.94-2.06-.94-.94-2.06-.94 2.06-2.06.94z\"/><path d=\"M17.41 7.96l-1.37-1.37c-.4-.4-.92-.59-1.43-.59-.52 0-1.04.2-1.43.59L10.3 9.45l-7.72 7.72c-.78.78-.78 2.05 0 2.83L4 21.41c.39.39.9.59 1.41.59.51 0 1.02-.2 1.41-.59l7.78-7.78 2.81-2.81c.8-.78.8-2.07 0-2.86zM5.41 20L4 18.59l7.72-7.72 1.47 1.35L5.41 20z\"/>\n",
              "  </svg>\n",
              "      </button>\n",
              "      \n",
              "  <style>\n",
              "    .colab-df-container {\n",
              "      display:flex;\n",
              "      flex-wrap:wrap;\n",
              "      gap: 12px;\n",
              "    }\n",
              "\n",
              "    .colab-df-convert {\n",
              "      background-color: #E8F0FE;\n",
              "      border: none;\n",
              "      border-radius: 50%;\n",
              "      cursor: pointer;\n",
              "      display: none;\n",
              "      fill: #1967D2;\n",
              "      height: 32px;\n",
              "      padding: 0 0 0 0;\n",
              "      width: 32px;\n",
              "    }\n",
              "\n",
              "    .colab-df-convert:hover {\n",
              "      background-color: #E2EBFA;\n",
              "      box-shadow: 0px 1px 2px rgba(60, 64, 67, 0.3), 0px 1px 3px 1px rgba(60, 64, 67, 0.15);\n",
              "      fill: #174EA6;\n",
              "    }\n",
              "\n",
              "    [theme=dark] .colab-df-convert {\n",
              "      background-color: #3B4455;\n",
              "      fill: #D2E3FC;\n",
              "    }\n",
              "\n",
              "    [theme=dark] .colab-df-convert:hover {\n",
              "      background-color: #434B5C;\n",
              "      box-shadow: 0px 1px 3px 1px rgba(0, 0, 0, 0.15);\n",
              "      filter: drop-shadow(0px 1px 2px rgba(0, 0, 0, 0.3));\n",
              "      fill: #FFFFFF;\n",
              "    }\n",
              "  </style>\n",
              "\n",
              "      <script>\n",
              "        const buttonEl =\n",
              "          document.querySelector('#df-61fffe50-6e5e-4052-a063-15e26096fbd8 button.colab-df-convert');\n",
              "        buttonEl.style.display =\n",
              "          google.colab.kernel.accessAllowed ? 'block' : 'none';\n",
              "\n",
              "        async function convertToInteractive(key) {\n",
              "          const element = document.querySelector('#df-61fffe50-6e5e-4052-a063-15e26096fbd8');\n",
              "          const dataTable =\n",
              "            await google.colab.kernel.invokeFunction('convertToInteractive',\n",
              "                                                     [key], {});\n",
              "          if (!dataTable) return;\n",
              "\n",
              "          const docLinkHtml = 'Like what you see? Visit the ' +\n",
              "            '<a target=\"_blank\" href=https://colab.research.google.com/notebooks/data_table.ipynb>data table notebook</a>'\n",
              "            + ' to learn more about interactive tables.';\n",
              "          element.innerHTML = '';\n",
              "          dataTable['output_type'] = 'display_data';\n",
              "          await google.colab.output.renderOutput(dataTable, element);\n",
              "          const docLink = document.createElement('div');\n",
              "          docLink.innerHTML = docLinkHtml;\n",
              "          element.appendChild(docLink);\n",
              "        }\n",
              "      </script>\n",
              "    </div>\n",
              "  </div>\n",
              "  "
            ]
          },
          "metadata": {},
          "execution_count": 66
        }
      ]
    },
    {
      "cell_type": "markdown",
      "source": [
        "Top 5 rows of the credits_data"
      ],
      "metadata": {
        "id": "5k3Q1whvquUN"
      }
    },
    {
      "cell_type": "code",
      "source": [
        "credits_data.head()"
      ],
      "metadata": {
        "id": "VNi8mnutZYNu",
        "colab": {
          "base_uri": "https://localhost:8080/",
          "height": 337
        },
        "outputId": "e5af314d-1a3e-42c2-cb46-bae77e983e27"
      },
      "execution_count": 67,
      "outputs": [
        {
          "output_type": "execute_result",
          "data": {
            "text/plain": [
              "   movie_id                                     title  \\\n",
              "0     19995                                    Avatar   \n",
              "1       285  Pirates of the Caribbean: At World's End   \n",
              "2    206647                                   Spectre   \n",
              "3     49026                     The Dark Knight Rises   \n",
              "4     49529                               John Carter   \n",
              "\n",
              "                                                cast  \\\n",
              "0  [{\"cast_id\": 242, \"character\": \"Jake Sully\", \"...   \n",
              "1  [{\"cast_id\": 4, \"character\": \"Captain Jack Spa...   \n",
              "2  [{\"cast_id\": 1, \"character\": \"James Bond\", \"cr...   \n",
              "3  [{\"cast_id\": 2, \"character\": \"Bruce Wayne / Ba...   \n",
              "4  [{\"cast_id\": 5, \"character\": \"John Carter\", \"c...   \n",
              "\n",
              "                                                crew  \n",
              "0  [{\"credit_id\": \"52fe48009251416c750aca23\", \"de...  \n",
              "1  [{\"credit_id\": \"52fe4232c3a36847f800b579\", \"de...  \n",
              "2  [{\"credit_id\": \"54805967c3a36829b5002c41\", \"de...  \n",
              "3  [{\"credit_id\": \"52fe4781c3a36847f81398c3\", \"de...  \n",
              "4  [{\"credit_id\": \"52fe479ac3a36847f813eaa3\", \"de...  "
            ],
            "text/html": [
              "\n",
              "  <div id=\"df-12dd9492-ad59-4842-8af6-43e4ac72b7ec\">\n",
              "    <div class=\"colab-df-container\">\n",
              "      <div>\n",
              "<style scoped>\n",
              "    .dataframe tbody tr th:only-of-type {\n",
              "        vertical-align: middle;\n",
              "    }\n",
              "\n",
              "    .dataframe tbody tr th {\n",
              "        vertical-align: top;\n",
              "    }\n",
              "\n",
              "    .dataframe thead th {\n",
              "        text-align: right;\n",
              "    }\n",
              "</style>\n",
              "<table border=\"1\" class=\"dataframe\">\n",
              "  <thead>\n",
              "    <tr style=\"text-align: right;\">\n",
              "      <th></th>\n",
              "      <th>movie_id</th>\n",
              "      <th>title</th>\n",
              "      <th>cast</th>\n",
              "      <th>crew</th>\n",
              "    </tr>\n",
              "  </thead>\n",
              "  <tbody>\n",
              "    <tr>\n",
              "      <th>0</th>\n",
              "      <td>19995</td>\n",
              "      <td>Avatar</td>\n",
              "      <td>[{\"cast_id\": 242, \"character\": \"Jake Sully\", \"...</td>\n",
              "      <td>[{\"credit_id\": \"52fe48009251416c750aca23\", \"de...</td>\n",
              "    </tr>\n",
              "    <tr>\n",
              "      <th>1</th>\n",
              "      <td>285</td>\n",
              "      <td>Pirates of the Caribbean: At World's End</td>\n",
              "      <td>[{\"cast_id\": 4, \"character\": \"Captain Jack Spa...</td>\n",
              "      <td>[{\"credit_id\": \"52fe4232c3a36847f800b579\", \"de...</td>\n",
              "    </tr>\n",
              "    <tr>\n",
              "      <th>2</th>\n",
              "      <td>206647</td>\n",
              "      <td>Spectre</td>\n",
              "      <td>[{\"cast_id\": 1, \"character\": \"James Bond\", \"cr...</td>\n",
              "      <td>[{\"credit_id\": \"54805967c3a36829b5002c41\", \"de...</td>\n",
              "    </tr>\n",
              "    <tr>\n",
              "      <th>3</th>\n",
              "      <td>49026</td>\n",
              "      <td>The Dark Knight Rises</td>\n",
              "      <td>[{\"cast_id\": 2, \"character\": \"Bruce Wayne / Ba...</td>\n",
              "      <td>[{\"credit_id\": \"52fe4781c3a36847f81398c3\", \"de...</td>\n",
              "    </tr>\n",
              "    <tr>\n",
              "      <th>4</th>\n",
              "      <td>49529</td>\n",
              "      <td>John Carter</td>\n",
              "      <td>[{\"cast_id\": 5, \"character\": \"John Carter\", \"c...</td>\n",
              "      <td>[{\"credit_id\": \"52fe479ac3a36847f813eaa3\", \"de...</td>\n",
              "    </tr>\n",
              "  </tbody>\n",
              "</table>\n",
              "</div>\n",
              "      <button class=\"colab-df-convert\" onclick=\"convertToInteractive('df-12dd9492-ad59-4842-8af6-43e4ac72b7ec')\"\n",
              "              title=\"Convert this dataframe to an interactive table.\"\n",
              "              style=\"display:none;\">\n",
              "        \n",
              "  <svg xmlns=\"http://www.w3.org/2000/svg\" height=\"24px\"viewBox=\"0 0 24 24\"\n",
              "       width=\"24px\">\n",
              "    <path d=\"M0 0h24v24H0V0z\" fill=\"none\"/>\n",
              "    <path d=\"M18.56 5.44l.94 2.06.94-2.06 2.06-.94-2.06-.94-.94-2.06-.94 2.06-2.06.94zm-11 1L8.5 8.5l.94-2.06 2.06-.94-2.06-.94L8.5 2.5l-.94 2.06-2.06.94zm10 10l.94 2.06.94-2.06 2.06-.94-2.06-.94-.94-2.06-.94 2.06-2.06.94z\"/><path d=\"M17.41 7.96l-1.37-1.37c-.4-.4-.92-.59-1.43-.59-.52 0-1.04.2-1.43.59L10.3 9.45l-7.72 7.72c-.78.78-.78 2.05 0 2.83L4 21.41c.39.39.9.59 1.41.59.51 0 1.02-.2 1.41-.59l7.78-7.78 2.81-2.81c.8-.78.8-2.07 0-2.86zM5.41 20L4 18.59l7.72-7.72 1.47 1.35L5.41 20z\"/>\n",
              "  </svg>\n",
              "      </button>\n",
              "      \n",
              "  <style>\n",
              "    .colab-df-container {\n",
              "      display:flex;\n",
              "      flex-wrap:wrap;\n",
              "      gap: 12px;\n",
              "    }\n",
              "\n",
              "    .colab-df-convert {\n",
              "      background-color: #E8F0FE;\n",
              "      border: none;\n",
              "      border-radius: 50%;\n",
              "      cursor: pointer;\n",
              "      display: none;\n",
              "      fill: #1967D2;\n",
              "      height: 32px;\n",
              "      padding: 0 0 0 0;\n",
              "      width: 32px;\n",
              "    }\n",
              "\n",
              "    .colab-df-convert:hover {\n",
              "      background-color: #E2EBFA;\n",
              "      box-shadow: 0px 1px 2px rgba(60, 64, 67, 0.3), 0px 1px 3px 1px rgba(60, 64, 67, 0.15);\n",
              "      fill: #174EA6;\n",
              "    }\n",
              "\n",
              "    [theme=dark] .colab-df-convert {\n",
              "      background-color: #3B4455;\n",
              "      fill: #D2E3FC;\n",
              "    }\n",
              "\n",
              "    [theme=dark] .colab-df-convert:hover {\n",
              "      background-color: #434B5C;\n",
              "      box-shadow: 0px 1px 3px 1px rgba(0, 0, 0, 0.15);\n",
              "      filter: drop-shadow(0px 1px 2px rgba(0, 0, 0, 0.3));\n",
              "      fill: #FFFFFF;\n",
              "    }\n",
              "  </style>\n",
              "\n",
              "      <script>\n",
              "        const buttonEl =\n",
              "          document.querySelector('#df-12dd9492-ad59-4842-8af6-43e4ac72b7ec button.colab-df-convert');\n",
              "        buttonEl.style.display =\n",
              "          google.colab.kernel.accessAllowed ? 'block' : 'none';\n",
              "\n",
              "        async function convertToInteractive(key) {\n",
              "          const element = document.querySelector('#df-12dd9492-ad59-4842-8af6-43e4ac72b7ec');\n",
              "          const dataTable =\n",
              "            await google.colab.kernel.invokeFunction('convertToInteractive',\n",
              "                                                     [key], {});\n",
              "          if (!dataTable) return;\n",
              "\n",
              "          const docLinkHtml = 'Like what you see? Visit the ' +\n",
              "            '<a target=\"_blank\" href=https://colab.research.google.com/notebooks/data_table.ipynb>data table notebook</a>'\n",
              "            + ' to learn more about interactive tables.';\n",
              "          element.innerHTML = '';\n",
              "          dataTable['output_type'] = 'display_data';\n",
              "          await google.colab.output.renderOutput(dataTable, element);\n",
              "          const docLink = document.createElement('div');\n",
              "          docLink.innerHTML = docLinkHtml;\n",
              "          element.appendChild(docLink);\n",
              "        }\n",
              "      </script>\n",
              "    </div>\n",
              "  </div>\n",
              "  "
            ]
          },
          "metadata": {},
          "execution_count": 67
        }
      ]
    },
    {
      "cell_type": "markdown",
      "source": [
        "Observing the number of rows and columns in the data frames\n",
        "\n",
        "---\n",
        "\n"
      ],
      "metadata": {
        "id": "BZIwR1Xrq7LK"
      }
    },
    {
      "cell_type": "code",
      "source": [
        "movies_data.shape"
      ],
      "metadata": {
        "id": "G0Wk6vi7ZbEx",
        "colab": {
          "base_uri": "https://localhost:8080/"
        },
        "outputId": "cc23ff3d-ec6c-4f7c-a24a-5546b5d73158"
      },
      "execution_count": 68,
      "outputs": [
        {
          "output_type": "execute_result",
          "data": {
            "text/plain": [
              "(4803, 20)"
            ]
          },
          "metadata": {},
          "execution_count": 68
        }
      ]
    },
    {
      "cell_type": "code",
      "source": [
        "credits_data.shape"
      ],
      "metadata": {
        "id": "9QktdEleZeG5",
        "colab": {
          "base_uri": "https://localhost:8080/"
        },
        "outputId": "0360b485-cd1f-4838-db51-f348ee90618e"
      },
      "execution_count": 69,
      "outputs": [
        {
          "output_type": "execute_result",
          "data": {
            "text/plain": [
              "(4803, 4)"
            ]
          },
          "metadata": {},
          "execution_count": 69
        }
      ]
    },
    {
      "cell_type": "markdown",
      "source": [
        "Merging movies_data frame and credits_data frame on the basis of id"
      ],
      "metadata": {
        "id": "9b9HZdZ5Zi44"
      }
    },
    {
      "cell_type": "code",
      "source": [
        "credits_data.columns=['id','title','cast','crew']\n",
        "Movies = movies_data.merge(credits_data,on='id')"
      ],
      "metadata": {
        "id": "dYlMeqeMZgH7"
      },
      "execution_count": 70,
      "outputs": []
    },
    {
      "cell_type": "code",
      "source": [
        "Movies.head()"
      ],
      "metadata": {
        "id": "p8-FlltGZn5m",
        "colab": {
          "base_uri": "https://localhost:8080/",
          "height": 803
        },
        "outputId": "4311d386-95a2-470d-8a9c-87204566eec9"
      },
      "execution_count": 71,
      "outputs": [
        {
          "output_type": "execute_result",
          "data": {
            "text/plain": [
              "      budget                                             genres  \\\n",
              "0  237000000  [{\"id\": 28, \"name\": \"Action\"}, {\"id\": 12, \"nam...   \n",
              "1  300000000  [{\"id\": 12, \"name\": \"Adventure\"}, {\"id\": 14, \"...   \n",
              "2  245000000  [{\"id\": 28, \"name\": \"Action\"}, {\"id\": 12, \"nam...   \n",
              "3  250000000  [{\"id\": 28, \"name\": \"Action\"}, {\"id\": 80, \"nam...   \n",
              "4  260000000  [{\"id\": 28, \"name\": \"Action\"}, {\"id\": 12, \"nam...   \n",
              "\n",
              "                                       homepage      id  \\\n",
              "0                   http://www.avatarmovie.com/   19995   \n",
              "1  http://disney.go.com/disneypictures/pirates/     285   \n",
              "2   http://www.sonypictures.com/movies/spectre/  206647   \n",
              "3            http://www.thedarkknightrises.com/   49026   \n",
              "4          http://movies.disney.com/john-carter   49529   \n",
              "\n",
              "                                            keywords original_language  \\\n",
              "0  [{\"id\": 1463, \"name\": \"culture clash\"}, {\"id\":...                en   \n",
              "1  [{\"id\": 270, \"name\": \"ocean\"}, {\"id\": 726, \"na...                en   \n",
              "2  [{\"id\": 470, \"name\": \"spy\"}, {\"id\": 818, \"name...                en   \n",
              "3  [{\"id\": 849, \"name\": \"dc comics\"}, {\"id\": 853,...                en   \n",
              "4  [{\"id\": 818, \"name\": \"based on novel\"}, {\"id\":...                en   \n",
              "\n",
              "                             original_title  \\\n",
              "0                                    Avatar   \n",
              "1  Pirates of the Caribbean: At World's End   \n",
              "2                                   Spectre   \n",
              "3                     The Dark Knight Rises   \n",
              "4                               John Carter   \n",
              "\n",
              "                                            overview  popularity  \\\n",
              "0  In the 22nd century, a paraplegic Marine is di...  150.437577   \n",
              "1  Captain Barbossa, long believed to be dead, ha...  139.082615   \n",
              "2  A cryptic message from Bond’s past sends him o...  107.376788   \n",
              "3  Following the death of District Attorney Harve...  112.312950   \n",
              "4  John Carter is a war-weary, former military ca...   43.926995   \n",
              "\n",
              "                                production_companies  ... runtime  \\\n",
              "0  [{\"name\": \"Ingenious Film Partners\", \"id\": 289...  ...   162.0   \n",
              "1  [{\"name\": \"Walt Disney Pictures\", \"id\": 2}, {\"...  ...   169.0   \n",
              "2  [{\"name\": \"Columbia Pictures\", \"id\": 5}, {\"nam...  ...   148.0   \n",
              "3  [{\"name\": \"Legendary Pictures\", \"id\": 923}, {\"...  ...   165.0   \n",
              "4        [{\"name\": \"Walt Disney Pictures\", \"id\": 2}]  ...   132.0   \n",
              "\n",
              "                                    spoken_languages    status  \\\n",
              "0  [{\"iso_639_1\": \"en\", \"name\": \"English\"}, {\"iso...  Released   \n",
              "1           [{\"iso_639_1\": \"en\", \"name\": \"English\"}]  Released   \n",
              "2  [{\"iso_639_1\": \"fr\", \"name\": \"Fran\\u00e7ais\"},...  Released   \n",
              "3           [{\"iso_639_1\": \"en\", \"name\": \"English\"}]  Released   \n",
              "4           [{\"iso_639_1\": \"en\", \"name\": \"English\"}]  Released   \n",
              "\n",
              "                                          tagline  \\\n",
              "0                     Enter the World of Pandora.   \n",
              "1  At the end of the world, the adventure begins.   \n",
              "2                           A Plan No One Escapes   \n",
              "3                                 The Legend Ends   \n",
              "4            Lost in our world, found in another.   \n",
              "\n",
              "                                    title_x vote_average vote_count  \\\n",
              "0                                    Avatar          7.2      11800   \n",
              "1  Pirates of the Caribbean: At World's End          6.9       4500   \n",
              "2                                   Spectre          6.3       4466   \n",
              "3                     The Dark Knight Rises          7.6       9106   \n",
              "4                               John Carter          6.1       2124   \n",
              "\n",
              "                                    title_y  \\\n",
              "0                                    Avatar   \n",
              "1  Pirates of the Caribbean: At World's End   \n",
              "2                                   Spectre   \n",
              "3                     The Dark Knight Rises   \n",
              "4                               John Carter   \n",
              "\n",
              "                                                cast  \\\n",
              "0  [{\"cast_id\": 242, \"character\": \"Jake Sully\", \"...   \n",
              "1  [{\"cast_id\": 4, \"character\": \"Captain Jack Spa...   \n",
              "2  [{\"cast_id\": 1, \"character\": \"James Bond\", \"cr...   \n",
              "3  [{\"cast_id\": 2, \"character\": \"Bruce Wayne / Ba...   \n",
              "4  [{\"cast_id\": 5, \"character\": \"John Carter\", \"c...   \n",
              "\n",
              "                                                crew  \n",
              "0  [{\"credit_id\": \"52fe48009251416c750aca23\", \"de...  \n",
              "1  [{\"credit_id\": \"52fe4232c3a36847f800b579\", \"de...  \n",
              "2  [{\"credit_id\": \"54805967c3a36829b5002c41\", \"de...  \n",
              "3  [{\"credit_id\": \"52fe4781c3a36847f81398c3\", \"de...  \n",
              "4  [{\"credit_id\": \"52fe479ac3a36847f813eaa3\", \"de...  \n",
              "\n",
              "[5 rows x 23 columns]"
            ],
            "text/html": [
              "\n",
              "  <div id=\"df-34945b4f-eadf-4287-bde7-bf1c6064f9f5\">\n",
              "    <div class=\"colab-df-container\">\n",
              "      <div>\n",
              "<style scoped>\n",
              "    .dataframe tbody tr th:only-of-type {\n",
              "        vertical-align: middle;\n",
              "    }\n",
              "\n",
              "    .dataframe tbody tr th {\n",
              "        vertical-align: top;\n",
              "    }\n",
              "\n",
              "    .dataframe thead th {\n",
              "        text-align: right;\n",
              "    }\n",
              "</style>\n",
              "<table border=\"1\" class=\"dataframe\">\n",
              "  <thead>\n",
              "    <tr style=\"text-align: right;\">\n",
              "      <th></th>\n",
              "      <th>budget</th>\n",
              "      <th>genres</th>\n",
              "      <th>homepage</th>\n",
              "      <th>id</th>\n",
              "      <th>keywords</th>\n",
              "      <th>original_language</th>\n",
              "      <th>original_title</th>\n",
              "      <th>overview</th>\n",
              "      <th>popularity</th>\n",
              "      <th>production_companies</th>\n",
              "      <th>...</th>\n",
              "      <th>runtime</th>\n",
              "      <th>spoken_languages</th>\n",
              "      <th>status</th>\n",
              "      <th>tagline</th>\n",
              "      <th>title_x</th>\n",
              "      <th>vote_average</th>\n",
              "      <th>vote_count</th>\n",
              "      <th>title_y</th>\n",
              "      <th>cast</th>\n",
              "      <th>crew</th>\n",
              "    </tr>\n",
              "  </thead>\n",
              "  <tbody>\n",
              "    <tr>\n",
              "      <th>0</th>\n",
              "      <td>237000000</td>\n",
              "      <td>[{\"id\": 28, \"name\": \"Action\"}, {\"id\": 12, \"nam...</td>\n",
              "      <td>http://www.avatarmovie.com/</td>\n",
              "      <td>19995</td>\n",
              "      <td>[{\"id\": 1463, \"name\": \"culture clash\"}, {\"id\":...</td>\n",
              "      <td>en</td>\n",
              "      <td>Avatar</td>\n",
              "      <td>In the 22nd century, a paraplegic Marine is di...</td>\n",
              "      <td>150.437577</td>\n",
              "      <td>[{\"name\": \"Ingenious Film Partners\", \"id\": 289...</td>\n",
              "      <td>...</td>\n",
              "      <td>162.0</td>\n",
              "      <td>[{\"iso_639_1\": \"en\", \"name\": \"English\"}, {\"iso...</td>\n",
              "      <td>Released</td>\n",
              "      <td>Enter the World of Pandora.</td>\n",
              "      <td>Avatar</td>\n",
              "      <td>7.2</td>\n",
              "      <td>11800</td>\n",
              "      <td>Avatar</td>\n",
              "      <td>[{\"cast_id\": 242, \"character\": \"Jake Sully\", \"...</td>\n",
              "      <td>[{\"credit_id\": \"52fe48009251416c750aca23\", \"de...</td>\n",
              "    </tr>\n",
              "    <tr>\n",
              "      <th>1</th>\n",
              "      <td>300000000</td>\n",
              "      <td>[{\"id\": 12, \"name\": \"Adventure\"}, {\"id\": 14, \"...</td>\n",
              "      <td>http://disney.go.com/disneypictures/pirates/</td>\n",
              "      <td>285</td>\n",
              "      <td>[{\"id\": 270, \"name\": \"ocean\"}, {\"id\": 726, \"na...</td>\n",
              "      <td>en</td>\n",
              "      <td>Pirates of the Caribbean: At World's End</td>\n",
              "      <td>Captain Barbossa, long believed to be dead, ha...</td>\n",
              "      <td>139.082615</td>\n",
              "      <td>[{\"name\": \"Walt Disney Pictures\", \"id\": 2}, {\"...</td>\n",
              "      <td>...</td>\n",
              "      <td>169.0</td>\n",
              "      <td>[{\"iso_639_1\": \"en\", \"name\": \"English\"}]</td>\n",
              "      <td>Released</td>\n",
              "      <td>At the end of the world, the adventure begins.</td>\n",
              "      <td>Pirates of the Caribbean: At World's End</td>\n",
              "      <td>6.9</td>\n",
              "      <td>4500</td>\n",
              "      <td>Pirates of the Caribbean: At World's End</td>\n",
              "      <td>[{\"cast_id\": 4, \"character\": \"Captain Jack Spa...</td>\n",
              "      <td>[{\"credit_id\": \"52fe4232c3a36847f800b579\", \"de...</td>\n",
              "    </tr>\n",
              "    <tr>\n",
              "      <th>2</th>\n",
              "      <td>245000000</td>\n",
              "      <td>[{\"id\": 28, \"name\": \"Action\"}, {\"id\": 12, \"nam...</td>\n",
              "      <td>http://www.sonypictures.com/movies/spectre/</td>\n",
              "      <td>206647</td>\n",
              "      <td>[{\"id\": 470, \"name\": \"spy\"}, {\"id\": 818, \"name...</td>\n",
              "      <td>en</td>\n",
              "      <td>Spectre</td>\n",
              "      <td>A cryptic message from Bond’s past sends him o...</td>\n",
              "      <td>107.376788</td>\n",
              "      <td>[{\"name\": \"Columbia Pictures\", \"id\": 5}, {\"nam...</td>\n",
              "      <td>...</td>\n",
              "      <td>148.0</td>\n",
              "      <td>[{\"iso_639_1\": \"fr\", \"name\": \"Fran\\u00e7ais\"},...</td>\n",
              "      <td>Released</td>\n",
              "      <td>A Plan No One Escapes</td>\n",
              "      <td>Spectre</td>\n",
              "      <td>6.3</td>\n",
              "      <td>4466</td>\n",
              "      <td>Spectre</td>\n",
              "      <td>[{\"cast_id\": 1, \"character\": \"James Bond\", \"cr...</td>\n",
              "      <td>[{\"credit_id\": \"54805967c3a36829b5002c41\", \"de...</td>\n",
              "    </tr>\n",
              "    <tr>\n",
              "      <th>3</th>\n",
              "      <td>250000000</td>\n",
              "      <td>[{\"id\": 28, \"name\": \"Action\"}, {\"id\": 80, \"nam...</td>\n",
              "      <td>http://www.thedarkknightrises.com/</td>\n",
              "      <td>49026</td>\n",
              "      <td>[{\"id\": 849, \"name\": \"dc comics\"}, {\"id\": 853,...</td>\n",
              "      <td>en</td>\n",
              "      <td>The Dark Knight Rises</td>\n",
              "      <td>Following the death of District Attorney Harve...</td>\n",
              "      <td>112.312950</td>\n",
              "      <td>[{\"name\": \"Legendary Pictures\", \"id\": 923}, {\"...</td>\n",
              "      <td>...</td>\n",
              "      <td>165.0</td>\n",
              "      <td>[{\"iso_639_1\": \"en\", \"name\": \"English\"}]</td>\n",
              "      <td>Released</td>\n",
              "      <td>The Legend Ends</td>\n",
              "      <td>The Dark Knight Rises</td>\n",
              "      <td>7.6</td>\n",
              "      <td>9106</td>\n",
              "      <td>The Dark Knight Rises</td>\n",
              "      <td>[{\"cast_id\": 2, \"character\": \"Bruce Wayne / Ba...</td>\n",
              "      <td>[{\"credit_id\": \"52fe4781c3a36847f81398c3\", \"de...</td>\n",
              "    </tr>\n",
              "    <tr>\n",
              "      <th>4</th>\n",
              "      <td>260000000</td>\n",
              "      <td>[{\"id\": 28, \"name\": \"Action\"}, {\"id\": 12, \"nam...</td>\n",
              "      <td>http://movies.disney.com/john-carter</td>\n",
              "      <td>49529</td>\n",
              "      <td>[{\"id\": 818, \"name\": \"based on novel\"}, {\"id\":...</td>\n",
              "      <td>en</td>\n",
              "      <td>John Carter</td>\n",
              "      <td>John Carter is a war-weary, former military ca...</td>\n",
              "      <td>43.926995</td>\n",
              "      <td>[{\"name\": \"Walt Disney Pictures\", \"id\": 2}]</td>\n",
              "      <td>...</td>\n",
              "      <td>132.0</td>\n",
              "      <td>[{\"iso_639_1\": \"en\", \"name\": \"English\"}]</td>\n",
              "      <td>Released</td>\n",
              "      <td>Lost in our world, found in another.</td>\n",
              "      <td>John Carter</td>\n",
              "      <td>6.1</td>\n",
              "      <td>2124</td>\n",
              "      <td>John Carter</td>\n",
              "      <td>[{\"cast_id\": 5, \"character\": \"John Carter\", \"c...</td>\n",
              "      <td>[{\"credit_id\": \"52fe479ac3a36847f813eaa3\", \"de...</td>\n",
              "    </tr>\n",
              "  </tbody>\n",
              "</table>\n",
              "<p>5 rows × 23 columns</p>\n",
              "</div>\n",
              "      <button class=\"colab-df-convert\" onclick=\"convertToInteractive('df-34945b4f-eadf-4287-bde7-bf1c6064f9f5')\"\n",
              "              title=\"Convert this dataframe to an interactive table.\"\n",
              "              style=\"display:none;\">\n",
              "        \n",
              "  <svg xmlns=\"http://www.w3.org/2000/svg\" height=\"24px\"viewBox=\"0 0 24 24\"\n",
              "       width=\"24px\">\n",
              "    <path d=\"M0 0h24v24H0V0z\" fill=\"none\"/>\n",
              "    <path d=\"M18.56 5.44l.94 2.06.94-2.06 2.06-.94-2.06-.94-.94-2.06-.94 2.06-2.06.94zm-11 1L8.5 8.5l.94-2.06 2.06-.94-2.06-.94L8.5 2.5l-.94 2.06-2.06.94zm10 10l.94 2.06.94-2.06 2.06-.94-2.06-.94-.94-2.06-.94 2.06-2.06.94z\"/><path d=\"M17.41 7.96l-1.37-1.37c-.4-.4-.92-.59-1.43-.59-.52 0-1.04.2-1.43.59L10.3 9.45l-7.72 7.72c-.78.78-.78 2.05 0 2.83L4 21.41c.39.39.9.59 1.41.59.51 0 1.02-.2 1.41-.59l7.78-7.78 2.81-2.81c.8-.78.8-2.07 0-2.86zM5.41 20L4 18.59l7.72-7.72 1.47 1.35L5.41 20z\"/>\n",
              "  </svg>\n",
              "      </button>\n",
              "      \n",
              "  <style>\n",
              "    .colab-df-container {\n",
              "      display:flex;\n",
              "      flex-wrap:wrap;\n",
              "      gap: 12px;\n",
              "    }\n",
              "\n",
              "    .colab-df-convert {\n",
              "      background-color: #E8F0FE;\n",
              "      border: none;\n",
              "      border-radius: 50%;\n",
              "      cursor: pointer;\n",
              "      display: none;\n",
              "      fill: #1967D2;\n",
              "      height: 32px;\n",
              "      padding: 0 0 0 0;\n",
              "      width: 32px;\n",
              "    }\n",
              "\n",
              "    .colab-df-convert:hover {\n",
              "      background-color: #E2EBFA;\n",
              "      box-shadow: 0px 1px 2px rgba(60, 64, 67, 0.3), 0px 1px 3px 1px rgba(60, 64, 67, 0.15);\n",
              "      fill: #174EA6;\n",
              "    }\n",
              "\n",
              "    [theme=dark] .colab-df-convert {\n",
              "      background-color: #3B4455;\n",
              "      fill: #D2E3FC;\n",
              "    }\n",
              "\n",
              "    [theme=dark] .colab-df-convert:hover {\n",
              "      background-color: #434B5C;\n",
              "      box-shadow: 0px 1px 3px 1px rgba(0, 0, 0, 0.15);\n",
              "      filter: drop-shadow(0px 1px 2px rgba(0, 0, 0, 0.3));\n",
              "      fill: #FFFFFF;\n",
              "    }\n",
              "  </style>\n",
              "\n",
              "      <script>\n",
              "        const buttonEl =\n",
              "          document.querySelector('#df-34945b4f-eadf-4287-bde7-bf1c6064f9f5 button.colab-df-convert');\n",
              "        buttonEl.style.display =\n",
              "          google.colab.kernel.accessAllowed ? 'block' : 'none';\n",
              "\n",
              "        async function convertToInteractive(key) {\n",
              "          const element = document.querySelector('#df-34945b4f-eadf-4287-bde7-bf1c6064f9f5');\n",
              "          const dataTable =\n",
              "            await google.colab.kernel.invokeFunction('convertToInteractive',\n",
              "                                                     [key], {});\n",
              "          if (!dataTable) return;\n",
              "\n",
              "          const docLinkHtml = 'Like what you see? Visit the ' +\n",
              "            '<a target=\"_blank\" href=https://colab.research.google.com/notebooks/data_table.ipynb>data table notebook</a>'\n",
              "            + ' to learn more about interactive tables.';\n",
              "          element.innerHTML = '';\n",
              "          dataTable['output_type'] = 'display_data';\n",
              "          await google.colab.output.renderOutput(dataTable, element);\n",
              "          const docLink = document.createElement('div');\n",
              "          docLink.innerHTML = docLinkHtml;\n",
              "          element.appendChild(docLink);\n",
              "        }\n",
              "      </script>\n",
              "    </div>\n",
              "  </div>\n",
              "  "
            ]
          },
          "metadata": {},
          "execution_count": 71
        }
      ]
    },
    {
      "cell_type": "markdown",
      "source": [
        "Dropping the unnecessary columns from the data frame"
      ],
      "metadata": {
        "id": "2kZ1qp1VrHUU"
      }
    },
    {
      "cell_type": "code",
      "source": [
        "#Changing the column name 'title_x' to 'title'\n",
        "Movies['title']=Movies['title_x']\n",
        "Movies = Movies.drop(columns=['original_title','title_x','title_y','homepage','budget','original_language','production_companies','production_countries','spoken_languages','status','release_date','revenue','runtime'])"
      ],
      "metadata": {
        "id": "4ZBzj4pyZqzk"
      },
      "execution_count": 72,
      "outputs": []
    },
    {
      "cell_type": "code",
      "source": [
        "Movies.head()"
      ],
      "metadata": {
        "id": "aAjkuRu5aDJY",
        "colab": {
          "base_uri": "https://localhost:8080/",
          "height": 773
        },
        "outputId": "f69ec5cd-109e-46e3-dae8-303da4149dd1"
      },
      "execution_count": 73,
      "outputs": [
        {
          "output_type": "execute_result",
          "data": {
            "text/plain": [
              "                                              genres      id  \\\n",
              "0  [{\"id\": 28, \"name\": \"Action\"}, {\"id\": 12, \"nam...   19995   \n",
              "1  [{\"id\": 12, \"name\": \"Adventure\"}, {\"id\": 14, \"...     285   \n",
              "2  [{\"id\": 28, \"name\": \"Action\"}, {\"id\": 12, \"nam...  206647   \n",
              "3  [{\"id\": 28, \"name\": \"Action\"}, {\"id\": 80, \"nam...   49026   \n",
              "4  [{\"id\": 28, \"name\": \"Action\"}, {\"id\": 12, \"nam...   49529   \n",
              "\n",
              "                                            keywords  \\\n",
              "0  [{\"id\": 1463, \"name\": \"culture clash\"}, {\"id\":...   \n",
              "1  [{\"id\": 270, \"name\": \"ocean\"}, {\"id\": 726, \"na...   \n",
              "2  [{\"id\": 470, \"name\": \"spy\"}, {\"id\": 818, \"name...   \n",
              "3  [{\"id\": 849, \"name\": \"dc comics\"}, {\"id\": 853,...   \n",
              "4  [{\"id\": 818, \"name\": \"based on novel\"}, {\"id\":...   \n",
              "\n",
              "                                            overview  popularity  \\\n",
              "0  In the 22nd century, a paraplegic Marine is di...  150.437577   \n",
              "1  Captain Barbossa, long believed to be dead, ha...  139.082615   \n",
              "2  A cryptic message from Bond’s past sends him o...  107.376788   \n",
              "3  Following the death of District Attorney Harve...  112.312950   \n",
              "4  John Carter is a war-weary, former military ca...   43.926995   \n",
              "\n",
              "                                          tagline  vote_average  vote_count  \\\n",
              "0                     Enter the World of Pandora.           7.2       11800   \n",
              "1  At the end of the world, the adventure begins.           6.9        4500   \n",
              "2                           A Plan No One Escapes           6.3        4466   \n",
              "3                                 The Legend Ends           7.6        9106   \n",
              "4            Lost in our world, found in another.           6.1        2124   \n",
              "\n",
              "                                                cast  \\\n",
              "0  [{\"cast_id\": 242, \"character\": \"Jake Sully\", \"...   \n",
              "1  [{\"cast_id\": 4, \"character\": \"Captain Jack Spa...   \n",
              "2  [{\"cast_id\": 1, \"character\": \"James Bond\", \"cr...   \n",
              "3  [{\"cast_id\": 2, \"character\": \"Bruce Wayne / Ba...   \n",
              "4  [{\"cast_id\": 5, \"character\": \"John Carter\", \"c...   \n",
              "\n",
              "                                                crew  \\\n",
              "0  [{\"credit_id\": \"52fe48009251416c750aca23\", \"de...   \n",
              "1  [{\"credit_id\": \"52fe4232c3a36847f800b579\", \"de...   \n",
              "2  [{\"credit_id\": \"54805967c3a36829b5002c41\", \"de...   \n",
              "3  [{\"credit_id\": \"52fe4781c3a36847f81398c3\", \"de...   \n",
              "4  [{\"credit_id\": \"52fe479ac3a36847f813eaa3\", \"de...   \n",
              "\n",
              "                                      title  \n",
              "0                                    Avatar  \n",
              "1  Pirates of the Caribbean: At World's End  \n",
              "2                                   Spectre  \n",
              "3                     The Dark Knight Rises  \n",
              "4                               John Carter  "
            ],
            "text/html": [
              "\n",
              "  <div id=\"df-5be2ee8f-f6ef-487a-ae00-8beac43101bc\">\n",
              "    <div class=\"colab-df-container\">\n",
              "      <div>\n",
              "<style scoped>\n",
              "    .dataframe tbody tr th:only-of-type {\n",
              "        vertical-align: middle;\n",
              "    }\n",
              "\n",
              "    .dataframe tbody tr th {\n",
              "        vertical-align: top;\n",
              "    }\n",
              "\n",
              "    .dataframe thead th {\n",
              "        text-align: right;\n",
              "    }\n",
              "</style>\n",
              "<table border=\"1\" class=\"dataframe\">\n",
              "  <thead>\n",
              "    <tr style=\"text-align: right;\">\n",
              "      <th></th>\n",
              "      <th>genres</th>\n",
              "      <th>id</th>\n",
              "      <th>keywords</th>\n",
              "      <th>overview</th>\n",
              "      <th>popularity</th>\n",
              "      <th>tagline</th>\n",
              "      <th>vote_average</th>\n",
              "      <th>vote_count</th>\n",
              "      <th>cast</th>\n",
              "      <th>crew</th>\n",
              "      <th>title</th>\n",
              "    </tr>\n",
              "  </thead>\n",
              "  <tbody>\n",
              "    <tr>\n",
              "      <th>0</th>\n",
              "      <td>[{\"id\": 28, \"name\": \"Action\"}, {\"id\": 12, \"nam...</td>\n",
              "      <td>19995</td>\n",
              "      <td>[{\"id\": 1463, \"name\": \"culture clash\"}, {\"id\":...</td>\n",
              "      <td>In the 22nd century, a paraplegic Marine is di...</td>\n",
              "      <td>150.437577</td>\n",
              "      <td>Enter the World of Pandora.</td>\n",
              "      <td>7.2</td>\n",
              "      <td>11800</td>\n",
              "      <td>[{\"cast_id\": 242, \"character\": \"Jake Sully\", \"...</td>\n",
              "      <td>[{\"credit_id\": \"52fe48009251416c750aca23\", \"de...</td>\n",
              "      <td>Avatar</td>\n",
              "    </tr>\n",
              "    <tr>\n",
              "      <th>1</th>\n",
              "      <td>[{\"id\": 12, \"name\": \"Adventure\"}, {\"id\": 14, \"...</td>\n",
              "      <td>285</td>\n",
              "      <td>[{\"id\": 270, \"name\": \"ocean\"}, {\"id\": 726, \"na...</td>\n",
              "      <td>Captain Barbossa, long believed to be dead, ha...</td>\n",
              "      <td>139.082615</td>\n",
              "      <td>At the end of the world, the adventure begins.</td>\n",
              "      <td>6.9</td>\n",
              "      <td>4500</td>\n",
              "      <td>[{\"cast_id\": 4, \"character\": \"Captain Jack Spa...</td>\n",
              "      <td>[{\"credit_id\": \"52fe4232c3a36847f800b579\", \"de...</td>\n",
              "      <td>Pirates of the Caribbean: At World's End</td>\n",
              "    </tr>\n",
              "    <tr>\n",
              "      <th>2</th>\n",
              "      <td>[{\"id\": 28, \"name\": \"Action\"}, {\"id\": 12, \"nam...</td>\n",
              "      <td>206647</td>\n",
              "      <td>[{\"id\": 470, \"name\": \"spy\"}, {\"id\": 818, \"name...</td>\n",
              "      <td>A cryptic message from Bond’s past sends him o...</td>\n",
              "      <td>107.376788</td>\n",
              "      <td>A Plan No One Escapes</td>\n",
              "      <td>6.3</td>\n",
              "      <td>4466</td>\n",
              "      <td>[{\"cast_id\": 1, \"character\": \"James Bond\", \"cr...</td>\n",
              "      <td>[{\"credit_id\": \"54805967c3a36829b5002c41\", \"de...</td>\n",
              "      <td>Spectre</td>\n",
              "    </tr>\n",
              "    <tr>\n",
              "      <th>3</th>\n",
              "      <td>[{\"id\": 28, \"name\": \"Action\"}, {\"id\": 80, \"nam...</td>\n",
              "      <td>49026</td>\n",
              "      <td>[{\"id\": 849, \"name\": \"dc comics\"}, {\"id\": 853,...</td>\n",
              "      <td>Following the death of District Attorney Harve...</td>\n",
              "      <td>112.312950</td>\n",
              "      <td>The Legend Ends</td>\n",
              "      <td>7.6</td>\n",
              "      <td>9106</td>\n",
              "      <td>[{\"cast_id\": 2, \"character\": \"Bruce Wayne / Ba...</td>\n",
              "      <td>[{\"credit_id\": \"52fe4781c3a36847f81398c3\", \"de...</td>\n",
              "      <td>The Dark Knight Rises</td>\n",
              "    </tr>\n",
              "    <tr>\n",
              "      <th>4</th>\n",
              "      <td>[{\"id\": 28, \"name\": \"Action\"}, {\"id\": 12, \"nam...</td>\n",
              "      <td>49529</td>\n",
              "      <td>[{\"id\": 818, \"name\": \"based on novel\"}, {\"id\":...</td>\n",
              "      <td>John Carter is a war-weary, former military ca...</td>\n",
              "      <td>43.926995</td>\n",
              "      <td>Lost in our world, found in another.</td>\n",
              "      <td>6.1</td>\n",
              "      <td>2124</td>\n",
              "      <td>[{\"cast_id\": 5, \"character\": \"John Carter\", \"c...</td>\n",
              "      <td>[{\"credit_id\": \"52fe479ac3a36847f813eaa3\", \"de...</td>\n",
              "      <td>John Carter</td>\n",
              "    </tr>\n",
              "  </tbody>\n",
              "</table>\n",
              "</div>\n",
              "      <button class=\"colab-df-convert\" onclick=\"convertToInteractive('df-5be2ee8f-f6ef-487a-ae00-8beac43101bc')\"\n",
              "              title=\"Convert this dataframe to an interactive table.\"\n",
              "              style=\"display:none;\">\n",
              "        \n",
              "  <svg xmlns=\"http://www.w3.org/2000/svg\" height=\"24px\"viewBox=\"0 0 24 24\"\n",
              "       width=\"24px\">\n",
              "    <path d=\"M0 0h24v24H0V0z\" fill=\"none\"/>\n",
              "    <path d=\"M18.56 5.44l.94 2.06.94-2.06 2.06-.94-2.06-.94-.94-2.06-.94 2.06-2.06.94zm-11 1L8.5 8.5l.94-2.06 2.06-.94-2.06-.94L8.5 2.5l-.94 2.06-2.06.94zm10 10l.94 2.06.94-2.06 2.06-.94-2.06-.94-.94-2.06-.94 2.06-2.06.94z\"/><path d=\"M17.41 7.96l-1.37-1.37c-.4-.4-.92-.59-1.43-.59-.52 0-1.04.2-1.43.59L10.3 9.45l-7.72 7.72c-.78.78-.78 2.05 0 2.83L4 21.41c.39.39.9.59 1.41.59.51 0 1.02-.2 1.41-.59l7.78-7.78 2.81-2.81c.8-.78.8-2.07 0-2.86zM5.41 20L4 18.59l7.72-7.72 1.47 1.35L5.41 20z\"/>\n",
              "  </svg>\n",
              "      </button>\n",
              "      \n",
              "  <style>\n",
              "    .colab-df-container {\n",
              "      display:flex;\n",
              "      flex-wrap:wrap;\n",
              "      gap: 12px;\n",
              "    }\n",
              "\n",
              "    .colab-df-convert {\n",
              "      background-color: #E8F0FE;\n",
              "      border: none;\n",
              "      border-radius: 50%;\n",
              "      cursor: pointer;\n",
              "      display: none;\n",
              "      fill: #1967D2;\n",
              "      height: 32px;\n",
              "      padding: 0 0 0 0;\n",
              "      width: 32px;\n",
              "    }\n",
              "\n",
              "    .colab-df-convert:hover {\n",
              "      background-color: #E2EBFA;\n",
              "      box-shadow: 0px 1px 2px rgba(60, 64, 67, 0.3), 0px 1px 3px 1px rgba(60, 64, 67, 0.15);\n",
              "      fill: #174EA6;\n",
              "    }\n",
              "\n",
              "    [theme=dark] .colab-df-convert {\n",
              "      background-color: #3B4455;\n",
              "      fill: #D2E3FC;\n",
              "    }\n",
              "\n",
              "    [theme=dark] .colab-df-convert:hover {\n",
              "      background-color: #434B5C;\n",
              "      box-shadow: 0px 1px 3px 1px rgba(0, 0, 0, 0.15);\n",
              "      filter: drop-shadow(0px 1px 2px rgba(0, 0, 0, 0.3));\n",
              "      fill: #FFFFFF;\n",
              "    }\n",
              "  </style>\n",
              "\n",
              "      <script>\n",
              "        const buttonEl =\n",
              "          document.querySelector('#df-5be2ee8f-f6ef-487a-ae00-8beac43101bc button.colab-df-convert');\n",
              "        buttonEl.style.display =\n",
              "          google.colab.kernel.accessAllowed ? 'block' : 'none';\n",
              "\n",
              "        async function convertToInteractive(key) {\n",
              "          const element = document.querySelector('#df-5be2ee8f-f6ef-487a-ae00-8beac43101bc');\n",
              "          const dataTable =\n",
              "            await google.colab.kernel.invokeFunction('convertToInteractive',\n",
              "                                                     [key], {});\n",
              "          if (!dataTable) return;\n",
              "\n",
              "          const docLinkHtml = 'Like what you see? Visit the ' +\n",
              "            '<a target=\"_blank\" href=https://colab.research.google.com/notebooks/data_table.ipynb>data table notebook</a>'\n",
              "            + ' to learn more about interactive tables.';\n",
              "          element.innerHTML = '';\n",
              "          dataTable['output_type'] = 'display_data';\n",
              "          await google.colab.output.renderOutput(dataTable, element);\n",
              "          const docLink = document.createElement('div');\n",
              "          docLink.innerHTML = docLinkHtml;\n",
              "          element.appendChild(docLink);\n",
              "        }\n",
              "      </script>\n",
              "    </div>\n",
              "  </div>\n",
              "  "
            ]
          },
          "metadata": {},
          "execution_count": 73
        }
      ]
    },
    {
      "cell_type": "code",
      "source": [
        "Movies.info()"
      ],
      "metadata": {
        "id": "_AQEDqPXbxZH",
        "colab": {
          "base_uri": "https://localhost:8080/"
        },
        "outputId": "dda262c4-015f-41b9-ee3a-d6bba72692d3"
      },
      "execution_count": 74,
      "outputs": [
        {
          "output_type": "stream",
          "name": "stdout",
          "text": [
            "<class 'pandas.core.frame.DataFrame'>\n",
            "Int64Index: 4803 entries, 0 to 4802\n",
            "Data columns (total 11 columns):\n",
            " #   Column        Non-Null Count  Dtype  \n",
            "---  ------        --------------  -----  \n",
            " 0   genres        4803 non-null   object \n",
            " 1   id            4803 non-null   int64  \n",
            " 2   keywords      4803 non-null   object \n",
            " 3   overview      4800 non-null   object \n",
            " 4   popularity    4803 non-null   float64\n",
            " 5   tagline       3959 non-null   object \n",
            " 6   vote_average  4803 non-null   float64\n",
            " 7   vote_count    4803 non-null   int64  \n",
            " 8   cast          4803 non-null   object \n",
            " 9   crew          4803 non-null   object \n",
            " 10  title         4803 non-null   object \n",
            "dtypes: float64(2), int64(2), object(7)\n",
            "memory usage: 450.3+ KB\n"
          ]
        }
      ]
    },
    {
      "cell_type": "markdown",
      "source": [
        "Finding popular movies\n"
      ],
      "metadata": {
        "id": "bQEz9A7wb_re"
      }
    },
    {
      "cell_type": "code",
      "source": [
        "#Sorting the movies based on popularity in the descending order\n",
        "popular_movies = Movies.sort_values('popularity',ascending=False)"
      ],
      "metadata": {
        "id": "0nUCx5D3bydS"
      },
      "execution_count": 75,
      "outputs": []
    },
    {
      "cell_type": "code",
      "source": [
        "popular_movies"
      ],
      "metadata": {
        "id": "3zdtksDjkoo7",
        "outputId": "d2d20e0d-7651-412f-9ecb-8fc458088ca1",
        "colab": {
          "base_uri": "https://localhost:8080/",
          "height": 1000
        }
      },
      "execution_count": 76,
      "outputs": [
        {
          "output_type": "execute_result",
          "data": {
            "text/plain": [
              "                                                 genres      id  \\\n",
              "546   [{\"id\": 10751, \"name\": \"Family\"}, {\"id\": 16, \"...  211672   \n",
              "95    [{\"id\": 12, \"name\": \"Adventure\"}, {\"id\": 18, \"...  157336   \n",
              "788   [{\"id\": 28, \"name\": \"Action\"}, {\"id\": 12, \"nam...  293660   \n",
              "94    [{\"id\": 28, \"name\": \"Action\"}, {\"id\": 878, \"na...  118340   \n",
              "127   [{\"id\": 28, \"name\": \"Action\"}, {\"id\": 12, \"nam...   76341   \n",
              "...                                                 ...     ...   \n",
              "4625                     [{\"id\": 27, \"name\": \"Horror\"}]  426067   \n",
              "4118                                                 []  325140   \n",
              "4727  [{\"id\": 28, \"name\": \"Action\"}, {\"id\": 18, \"nam...   65448   \n",
              "3361  [{\"id\": 27, \"name\": \"Horror\"}, {\"id\": 28, \"nam...   77156   \n",
              "4553                                                 []  380097   \n",
              "\n",
              "                                               keywords  \\\n",
              "546   [{\"id\": 3487, \"name\": \"assistant\"}, {\"id\": 179...   \n",
              "95    [{\"id\": 83, \"name\": \"saving the world\"}, {\"id\"...   \n",
              "788   [{\"id\": 2095, \"name\": \"anti hero\"}, {\"id\": 307...   \n",
              "94    [{\"id\": 8828, \"name\": \"marvel comic\"}, {\"id\": ...   \n",
              "127   [{\"id\": 2964, \"name\": \"future\"}, {\"id\": 3713, ...   \n",
              "...                                                 ...   \n",
              "4625                                                 []   \n",
              "4118                                                 []   \n",
              "4727  [{\"id\": 378, \"name\": \"prison\"}, {\"id\": 209476,...   \n",
              "3361                                                 []   \n",
              "4553                                                 []   \n",
              "\n",
              "                                               overview  popularity  \\\n",
              "546   Minions Stuart, Kevin and Bob are recruited by...  875.581305   \n",
              "95    Interstellar chronicles the adventures of a gr...  724.247784   \n",
              "788   Deadpool tells the origin story of former Spec...  514.569956   \n",
              "94    Light years from Earth, 26 years after being a...  481.098624   \n",
              "127   An apocalyptic story set in the furthest reach...  434.278564   \n",
              "...                                                 ...         ...   \n",
              "4625  A Broadway producer puts on a play with a Devi...    0.001389   \n",
              "4118  Raju, a waiter, is in love with the famous TV ...    0.001186   \n",
              "4727  A hitchhiker named Martel Gordone gets in a fi...    0.001117   \n",
              "3361  A man who is having an affair with a married w...    0.000372   \n",
              "4553  1971 post civil rights San Francisco seemed li...    0.000000   \n",
              "\n",
              "                                                tagline  vote_average  \\\n",
              "546        Before Gru, they had a history of bad bosses           6.4   \n",
              "95    Mankind was born on Earth. It was never meant ...           8.1   \n",
              "788             Witness the beginning of a happy ending           7.4   \n",
              "94                          All heroes start somewhere.           7.9   \n",
              "127                                  What a Lovely Day.           7.2   \n",
              "...                                                 ...           ...   \n",
              "4625                The hot spot where Satan's waitin'.           0.0   \n",
              "4118                                                NaN           0.0   \n",
              "4727  There's only one way out, and 100 fools stand ...           4.9   \n",
              "3361                        Don't you dare go in there!           4.0   \n",
              "4553                                                NaN           0.0   \n",
              "\n",
              "      vote_count                                               cast  \\\n",
              "546         4571  [{\"cast_id\": 22, \"character\": \"Scarlet Overkil...   \n",
              "95         10867  [{\"cast_id\": 9, \"character\": \"Joseph Cooper\", ...   \n",
              "788        10995  [{\"cast_id\": 99, \"character\": \"Wade Wilson / D...   \n",
              "94          9742  [{\"cast_id\": 1, \"character\": \"Peter Quill / St...   \n",
              "127         9427  [{\"cast_id\": 2, \"character\": \"Max Rockatansky\"...   \n",
              "...          ...                                                ...   \n",
              "4625           0  [{\"cast_id\": 1, \"character\": \"Dawn\", \"credit_i...   \n",
              "4118           0                                                 []   \n",
              "4727           8  [{\"cast_id\": 1000, \"character\": \"Sweet Pea\", \"...   \n",
              "3361           3  [{\"cast_id\": 6, \"character\": \"Talmudge\", \"cred...   \n",
              "4553           0                                                 []   \n",
              "\n",
              "                                                   crew  \\\n",
              "546   [{\"credit_id\": \"5431b2b10e0a2656e20026c7\", \"de...   \n",
              "95    [{\"credit_id\": \"52fe4bbf9251416c910e4801\", \"de...   \n",
              "788   [{\"credit_id\": \"56c986b2925141172f0068b6\", \"de...   \n",
              "94    [{\"credit_id\": \"538ce329c3a3687155003358\", \"de...   \n",
              "127   [{\"credit_id\": \"577da370c3a36817f8003838\", \"de...   \n",
              "...                                                 ...   \n",
              "4625  [{\"credit_id\": \"582a4cdb9251417b1803dd47\", \"de...   \n",
              "4118                                                 []   \n",
              "4727  [{\"credit_id\": \"52fe470ac3a368484e0b1e1b\", \"de...   \n",
              "3361  [{\"credit_id\": \"52fe495fc3a368484e128181\", \"de...   \n",
              "4553                                                 []   \n",
              "\n",
              "                           title  \n",
              "546                      Minions  \n",
              "95                  Interstellar  \n",
              "788                     Deadpool  \n",
              "94       Guardians of the Galaxy  \n",
              "127           Mad Max: Fury Road  \n",
              "...                          ...  \n",
              "4625            Midnight Cabaret  \n",
              "4118      Hum To Mohabbat Karega  \n",
              "4727                Penitentiary  \n",
              "3361                  Alien Zone  \n",
              "4553  America Is Still the Place  \n",
              "\n",
              "[4803 rows x 11 columns]"
            ],
            "text/html": [
              "\n",
              "  <div id=\"df-44d065e6-de1a-421a-9bc2-8a421706729e\">\n",
              "    <div class=\"colab-df-container\">\n",
              "      <div>\n",
              "<style scoped>\n",
              "    .dataframe tbody tr th:only-of-type {\n",
              "        vertical-align: middle;\n",
              "    }\n",
              "\n",
              "    .dataframe tbody tr th {\n",
              "        vertical-align: top;\n",
              "    }\n",
              "\n",
              "    .dataframe thead th {\n",
              "        text-align: right;\n",
              "    }\n",
              "</style>\n",
              "<table border=\"1\" class=\"dataframe\">\n",
              "  <thead>\n",
              "    <tr style=\"text-align: right;\">\n",
              "      <th></th>\n",
              "      <th>genres</th>\n",
              "      <th>id</th>\n",
              "      <th>keywords</th>\n",
              "      <th>overview</th>\n",
              "      <th>popularity</th>\n",
              "      <th>tagline</th>\n",
              "      <th>vote_average</th>\n",
              "      <th>vote_count</th>\n",
              "      <th>cast</th>\n",
              "      <th>crew</th>\n",
              "      <th>title</th>\n",
              "    </tr>\n",
              "  </thead>\n",
              "  <tbody>\n",
              "    <tr>\n",
              "      <th>546</th>\n",
              "      <td>[{\"id\": 10751, \"name\": \"Family\"}, {\"id\": 16, \"...</td>\n",
              "      <td>211672</td>\n",
              "      <td>[{\"id\": 3487, \"name\": \"assistant\"}, {\"id\": 179...</td>\n",
              "      <td>Minions Stuart, Kevin and Bob are recruited by...</td>\n",
              "      <td>875.581305</td>\n",
              "      <td>Before Gru, they had a history of bad bosses</td>\n",
              "      <td>6.4</td>\n",
              "      <td>4571</td>\n",
              "      <td>[{\"cast_id\": 22, \"character\": \"Scarlet Overkil...</td>\n",
              "      <td>[{\"credit_id\": \"5431b2b10e0a2656e20026c7\", \"de...</td>\n",
              "      <td>Minions</td>\n",
              "    </tr>\n",
              "    <tr>\n",
              "      <th>95</th>\n",
              "      <td>[{\"id\": 12, \"name\": \"Adventure\"}, {\"id\": 18, \"...</td>\n",
              "      <td>157336</td>\n",
              "      <td>[{\"id\": 83, \"name\": \"saving the world\"}, {\"id\"...</td>\n",
              "      <td>Interstellar chronicles the adventures of a gr...</td>\n",
              "      <td>724.247784</td>\n",
              "      <td>Mankind was born on Earth. It was never meant ...</td>\n",
              "      <td>8.1</td>\n",
              "      <td>10867</td>\n",
              "      <td>[{\"cast_id\": 9, \"character\": \"Joseph Cooper\", ...</td>\n",
              "      <td>[{\"credit_id\": \"52fe4bbf9251416c910e4801\", \"de...</td>\n",
              "      <td>Interstellar</td>\n",
              "    </tr>\n",
              "    <tr>\n",
              "      <th>788</th>\n",
              "      <td>[{\"id\": 28, \"name\": \"Action\"}, {\"id\": 12, \"nam...</td>\n",
              "      <td>293660</td>\n",
              "      <td>[{\"id\": 2095, \"name\": \"anti hero\"}, {\"id\": 307...</td>\n",
              "      <td>Deadpool tells the origin story of former Spec...</td>\n",
              "      <td>514.569956</td>\n",
              "      <td>Witness the beginning of a happy ending</td>\n",
              "      <td>7.4</td>\n",
              "      <td>10995</td>\n",
              "      <td>[{\"cast_id\": 99, \"character\": \"Wade Wilson / D...</td>\n",
              "      <td>[{\"credit_id\": \"56c986b2925141172f0068b6\", \"de...</td>\n",
              "      <td>Deadpool</td>\n",
              "    </tr>\n",
              "    <tr>\n",
              "      <th>94</th>\n",
              "      <td>[{\"id\": 28, \"name\": \"Action\"}, {\"id\": 878, \"na...</td>\n",
              "      <td>118340</td>\n",
              "      <td>[{\"id\": 8828, \"name\": \"marvel comic\"}, {\"id\": ...</td>\n",
              "      <td>Light years from Earth, 26 years after being a...</td>\n",
              "      <td>481.098624</td>\n",
              "      <td>All heroes start somewhere.</td>\n",
              "      <td>7.9</td>\n",
              "      <td>9742</td>\n",
              "      <td>[{\"cast_id\": 1, \"character\": \"Peter Quill / St...</td>\n",
              "      <td>[{\"credit_id\": \"538ce329c3a3687155003358\", \"de...</td>\n",
              "      <td>Guardians of the Galaxy</td>\n",
              "    </tr>\n",
              "    <tr>\n",
              "      <th>127</th>\n",
              "      <td>[{\"id\": 28, \"name\": \"Action\"}, {\"id\": 12, \"nam...</td>\n",
              "      <td>76341</td>\n",
              "      <td>[{\"id\": 2964, \"name\": \"future\"}, {\"id\": 3713, ...</td>\n",
              "      <td>An apocalyptic story set in the furthest reach...</td>\n",
              "      <td>434.278564</td>\n",
              "      <td>What a Lovely Day.</td>\n",
              "      <td>7.2</td>\n",
              "      <td>9427</td>\n",
              "      <td>[{\"cast_id\": 2, \"character\": \"Max Rockatansky\"...</td>\n",
              "      <td>[{\"credit_id\": \"577da370c3a36817f8003838\", \"de...</td>\n",
              "      <td>Mad Max: Fury Road</td>\n",
              "    </tr>\n",
              "    <tr>\n",
              "      <th>...</th>\n",
              "      <td>...</td>\n",
              "      <td>...</td>\n",
              "      <td>...</td>\n",
              "      <td>...</td>\n",
              "      <td>...</td>\n",
              "      <td>...</td>\n",
              "      <td>...</td>\n",
              "      <td>...</td>\n",
              "      <td>...</td>\n",
              "      <td>...</td>\n",
              "      <td>...</td>\n",
              "    </tr>\n",
              "    <tr>\n",
              "      <th>4625</th>\n",
              "      <td>[{\"id\": 27, \"name\": \"Horror\"}]</td>\n",
              "      <td>426067</td>\n",
              "      <td>[]</td>\n",
              "      <td>A Broadway producer puts on a play with a Devi...</td>\n",
              "      <td>0.001389</td>\n",
              "      <td>The hot spot where Satan's waitin'.</td>\n",
              "      <td>0.0</td>\n",
              "      <td>0</td>\n",
              "      <td>[{\"cast_id\": 1, \"character\": \"Dawn\", \"credit_i...</td>\n",
              "      <td>[{\"credit_id\": \"582a4cdb9251417b1803dd47\", \"de...</td>\n",
              "      <td>Midnight Cabaret</td>\n",
              "    </tr>\n",
              "    <tr>\n",
              "      <th>4118</th>\n",
              "      <td>[]</td>\n",
              "      <td>325140</td>\n",
              "      <td>[]</td>\n",
              "      <td>Raju, a waiter, is in love with the famous TV ...</td>\n",
              "      <td>0.001186</td>\n",
              "      <td>NaN</td>\n",
              "      <td>0.0</td>\n",
              "      <td>0</td>\n",
              "      <td>[]</td>\n",
              "      <td>[]</td>\n",
              "      <td>Hum To Mohabbat Karega</td>\n",
              "    </tr>\n",
              "    <tr>\n",
              "      <th>4727</th>\n",
              "      <td>[{\"id\": 28, \"name\": \"Action\"}, {\"id\": 18, \"nam...</td>\n",
              "      <td>65448</td>\n",
              "      <td>[{\"id\": 378, \"name\": \"prison\"}, {\"id\": 209476,...</td>\n",
              "      <td>A hitchhiker named Martel Gordone gets in a fi...</td>\n",
              "      <td>0.001117</td>\n",
              "      <td>There's only one way out, and 100 fools stand ...</td>\n",
              "      <td>4.9</td>\n",
              "      <td>8</td>\n",
              "      <td>[{\"cast_id\": 1000, \"character\": \"Sweet Pea\", \"...</td>\n",
              "      <td>[{\"credit_id\": \"52fe470ac3a368484e0b1e1b\", \"de...</td>\n",
              "      <td>Penitentiary</td>\n",
              "    </tr>\n",
              "    <tr>\n",
              "      <th>3361</th>\n",
              "      <td>[{\"id\": 27, \"name\": \"Horror\"}, {\"id\": 28, \"nam...</td>\n",
              "      <td>77156</td>\n",
              "      <td>[]</td>\n",
              "      <td>A man who is having an affair with a married w...</td>\n",
              "      <td>0.000372</td>\n",
              "      <td>Don't you dare go in there!</td>\n",
              "      <td>4.0</td>\n",
              "      <td>3</td>\n",
              "      <td>[{\"cast_id\": 6, \"character\": \"Talmudge\", \"cred...</td>\n",
              "      <td>[{\"credit_id\": \"52fe495fc3a368484e128181\", \"de...</td>\n",
              "      <td>Alien Zone</td>\n",
              "    </tr>\n",
              "    <tr>\n",
              "      <th>4553</th>\n",
              "      <td>[]</td>\n",
              "      <td>380097</td>\n",
              "      <td>[]</td>\n",
              "      <td>1971 post civil rights San Francisco seemed li...</td>\n",
              "      <td>0.000000</td>\n",
              "      <td>NaN</td>\n",
              "      <td>0.0</td>\n",
              "      <td>0</td>\n",
              "      <td>[]</td>\n",
              "      <td>[]</td>\n",
              "      <td>America Is Still the Place</td>\n",
              "    </tr>\n",
              "  </tbody>\n",
              "</table>\n",
              "<p>4803 rows × 11 columns</p>\n",
              "</div>\n",
              "      <button class=\"colab-df-convert\" onclick=\"convertToInteractive('df-44d065e6-de1a-421a-9bc2-8a421706729e')\"\n",
              "              title=\"Convert this dataframe to an interactive table.\"\n",
              "              style=\"display:none;\">\n",
              "        \n",
              "  <svg xmlns=\"http://www.w3.org/2000/svg\" height=\"24px\"viewBox=\"0 0 24 24\"\n",
              "       width=\"24px\">\n",
              "    <path d=\"M0 0h24v24H0V0z\" fill=\"none\"/>\n",
              "    <path d=\"M18.56 5.44l.94 2.06.94-2.06 2.06-.94-2.06-.94-.94-2.06-.94 2.06-2.06.94zm-11 1L8.5 8.5l.94-2.06 2.06-.94-2.06-.94L8.5 2.5l-.94 2.06-2.06.94zm10 10l.94 2.06.94-2.06 2.06-.94-2.06-.94-.94-2.06-.94 2.06-2.06.94z\"/><path d=\"M17.41 7.96l-1.37-1.37c-.4-.4-.92-.59-1.43-.59-.52 0-1.04.2-1.43.59L10.3 9.45l-7.72 7.72c-.78.78-.78 2.05 0 2.83L4 21.41c.39.39.9.59 1.41.59.51 0 1.02-.2 1.41-.59l7.78-7.78 2.81-2.81c.8-.78.8-2.07 0-2.86zM5.41 20L4 18.59l7.72-7.72 1.47 1.35L5.41 20z\"/>\n",
              "  </svg>\n",
              "      </button>\n",
              "      \n",
              "  <style>\n",
              "    .colab-df-container {\n",
              "      display:flex;\n",
              "      flex-wrap:wrap;\n",
              "      gap: 12px;\n",
              "    }\n",
              "\n",
              "    .colab-df-convert {\n",
              "      background-color: #E8F0FE;\n",
              "      border: none;\n",
              "      border-radius: 50%;\n",
              "      cursor: pointer;\n",
              "      display: none;\n",
              "      fill: #1967D2;\n",
              "      height: 32px;\n",
              "      padding: 0 0 0 0;\n",
              "      width: 32px;\n",
              "    }\n",
              "\n",
              "    .colab-df-convert:hover {\n",
              "      background-color: #E2EBFA;\n",
              "      box-shadow: 0px 1px 2px rgba(60, 64, 67, 0.3), 0px 1px 3px 1px rgba(60, 64, 67, 0.15);\n",
              "      fill: #174EA6;\n",
              "    }\n",
              "\n",
              "    [theme=dark] .colab-df-convert {\n",
              "      background-color: #3B4455;\n",
              "      fill: #D2E3FC;\n",
              "    }\n",
              "\n",
              "    [theme=dark] .colab-df-convert:hover {\n",
              "      background-color: #434B5C;\n",
              "      box-shadow: 0px 1px 3px 1px rgba(0, 0, 0, 0.15);\n",
              "      filter: drop-shadow(0px 1px 2px rgba(0, 0, 0, 0.3));\n",
              "      fill: #FFFFFF;\n",
              "    }\n",
              "  </style>\n",
              "\n",
              "      <script>\n",
              "        const buttonEl =\n",
              "          document.querySelector('#df-44d065e6-de1a-421a-9bc2-8a421706729e button.colab-df-convert');\n",
              "        buttonEl.style.display =\n",
              "          google.colab.kernel.accessAllowed ? 'block' : 'none';\n",
              "\n",
              "        async function convertToInteractive(key) {\n",
              "          const element = document.querySelector('#df-44d065e6-de1a-421a-9bc2-8a421706729e');\n",
              "          const dataTable =\n",
              "            await google.colab.kernel.invokeFunction('convertToInteractive',\n",
              "                                                     [key], {});\n",
              "          if (!dataTable) return;\n",
              "\n",
              "          const docLinkHtml = 'Like what you see? Visit the ' +\n",
              "            '<a target=\"_blank\" href=https://colab.research.google.com/notebooks/data_table.ipynb>data table notebook</a>'\n",
              "            + ' to learn more about interactive tables.';\n",
              "          element.innerHTML = '';\n",
              "          dataTable['output_type'] = 'display_data';\n",
              "          await google.colab.output.renderOutput(dataTable, element);\n",
              "          const docLink = document.createElement('div');\n",
              "          docLink.innerHTML = docLinkHtml;\n",
              "          element.appendChild(docLink);\n",
              "        }\n",
              "      </script>\n",
              "    </div>\n",
              "  </div>\n",
              "  "
            ]
          },
          "metadata": {},
          "execution_count": 76
        }
      ]
    },
    {
      "cell_type": "markdown",
      "source": [
        "Most popular movies"
      ],
      "metadata": {
        "id": "4qXyWtz5rjGp"
      }
    },
    {
      "cell_type": "code",
      "source": [
        "popular_movies['title'].head(10)"
      ],
      "metadata": {
        "id": "O14TEDsBcE8A",
        "colab": {
          "base_uri": "https://localhost:8080/"
        },
        "outputId": "f6578a23-9bf4-46ae-f43b-77d2e12b20f3"
      },
      "execution_count": 77,
      "outputs": [
        {
          "output_type": "execute_result",
          "data": {
            "text/plain": [
              "546                                              Minions\n",
              "95                                          Interstellar\n",
              "788                                             Deadpool\n",
              "94                               Guardians of the Galaxy\n",
              "127                                   Mad Max: Fury Road\n",
              "28                                        Jurassic World\n",
              "199    Pirates of the Caribbean: The Curse of the Bla...\n",
              "82                        Dawn of the Planet of the Apes\n",
              "200                The Hunger Games: Mockingjay - Part 1\n",
              "88                                            Big Hero 6\n",
              "Name: title, dtype: object"
            ]
          },
          "metadata": {},
          "execution_count": 77
        }
      ]
    },
    {
      "cell_type": "markdown",
      "source": [
        "Finding the top 10 movies of all time (Bayesian estimate)"
      ],
      "metadata": {
        "id": "mPCot_69cT0O"
      }
    },
    {
      "cell_type": "code",
      "source": [
        "mean_vote = Movies['vote_average'].mean()"
      ],
      "metadata": {
        "id": "48L9VlnpcHoM"
      },
      "execution_count": 78,
      "outputs": []
    },
    {
      "cell_type": "code",
      "source": [
        "min_votes= Movies['vote_count'].quantile(0.9)"
      ],
      "metadata": {
        "id": "ZjprwdLTcWGJ"
      },
      "execution_count": 79,
      "outputs": []
    },
    {
      "cell_type": "code",
      "source": [
        "top_movies = Movies.copy().loc[Movies['vote_count']>=min_votes]"
      ],
      "metadata": {
        "id": "nUJb-Iz7cYMY"
      },
      "execution_count": 80,
      "outputs": []
    },
    {
      "cell_type": "code",
      "source": [
        "def weighted_rating(x, m=min_votes, C=mean_vote):\n",
        "    v = x['vote_count']\n",
        "    R = x['vote_average']\n",
        "    #Bayesian estimate\n",
        "    return (v/(v+m) * R) + (m/(m+v) * C) "
      ],
      "metadata": {
        "id": "cl9PFwSbcbQ3"
      },
      "execution_count": 81,
      "outputs": []
    },
    {
      "cell_type": "code",
      "source": [
        "top_movies['score']=top_movies.apply(weighted_rating,axis=1)"
      ],
      "metadata": {
        "id": "pInV-Q9cceN6"
      },
      "execution_count": 82,
      "outputs": []
    },
    {
      "cell_type": "code",
      "source": [
        "#Sorting the movies based on the score obtained\n",
        "top_movies= top_movies.sort_values('score',ascending=False)"
      ],
      "metadata": {
        "id": "DThYWGo7cg_8"
      },
      "execution_count": 83,
      "outputs": []
    },
    {
      "cell_type": "code",
      "source": [
        "#Top 10 movies of all time from the data taken\n",
        "top_movies['title'].head(10)"
      ],
      "metadata": {
        "id": "nO27jFTmckKI",
        "colab": {
          "base_uri": "https://localhost:8080/"
        },
        "outputId": "663232c0-ccf9-4cb7-f355-d58366b934f8"
      },
      "execution_count": 84,
      "outputs": [
        {
          "output_type": "execute_result",
          "data": {
            "text/plain": [
              "1881                         The Shawshank Redemption\n",
              "662                                        Fight Club\n",
              "65                                    The Dark Knight\n",
              "3232                                     Pulp Fiction\n",
              "96                                          Inception\n",
              "3337                                    The Godfather\n",
              "95                                       Interstellar\n",
              "809                                      Forrest Gump\n",
              "329     The Lord of the Rings: The Return of the King\n",
              "1990                          The Empire Strikes Back\n",
              "Name: title, dtype: object"
            ]
          },
          "metadata": {},
          "execution_count": 84
        }
      ]
    },
    {
      "cell_type": "markdown",
      "source": [
        "Converting a dictionary to list"
      ],
      "metadata": {
        "id": "S5vb0QKJsFas"
      }
    },
    {
      "cell_type": "code",
      "source": [
        "def convertToList(text):\n",
        "    List = []\n",
        "    for i in ast.literal_eval(text): #convert string object to list\n",
        "        List.append(i['name']) \n",
        "    return List\n"
      ],
      "metadata": {
        "id": "2CIYxeRWcnn0"
      },
      "execution_count": 85,
      "outputs": []
    },
    {
      "cell_type": "code",
      "source": [
        "#Converting genres which is in the form of dictionary to a list with genre names\n",
        "Movies['genres'] = Movies['genres'].apply(convertToList)"
      ],
      "metadata": {
        "id": "2v9mjhl_dGSN"
      },
      "execution_count": 86,
      "outputs": []
    },
    {
      "cell_type": "code",
      "source": [
        "Movies['genres']"
      ],
      "metadata": {
        "id": "nViTTqoHe26e",
        "colab": {
          "base_uri": "https://localhost:8080/"
        },
        "outputId": "08fffba7-1da2-4353-ac0e-9d94add9a3f9"
      },
      "execution_count": 87,
      "outputs": [
        {
          "output_type": "execute_result",
          "data": {
            "text/plain": [
              "0       [Action, Adventure, Fantasy, Science Fiction]\n",
              "1                        [Adventure, Fantasy, Action]\n",
              "2                          [Action, Adventure, Crime]\n",
              "3                    [Action, Crime, Drama, Thriller]\n",
              "4                [Action, Adventure, Science Fiction]\n",
              "                            ...                      \n",
              "4798                        [Action, Crime, Thriller]\n",
              "4799                                [Comedy, Romance]\n",
              "4800               [Comedy, Drama, Romance, TV Movie]\n",
              "4801                                               []\n",
              "4802                                    [Documentary]\n",
              "Name: genres, Length: 4803, dtype: object"
            ]
          },
          "metadata": {},
          "execution_count": 87
        }
      ]
    },
    {
      "cell_type": "markdown",
      "source": [
        "Finding all the genres from the data "
      ],
      "metadata": {
        "id": "4ZpeKAPYsm1J"
      }
    },
    {
      "cell_type": "code",
      "source": [
        "genre_labels = set()\n",
        "for genre in Movies['genres']:\n",
        "    genre_labels = genre_labels.union(set(genre))"
      ],
      "metadata": {
        "id": "L8VtKaGHdYyP"
      },
      "execution_count": 88,
      "outputs": []
    },
    {
      "cell_type": "code",
      "source": [
        "genre_labels"
      ],
      "metadata": {
        "id": "qvuRyiZ-dh1s",
        "colab": {
          "base_uri": "https://localhost:8080/"
        },
        "outputId": "5d8c39dc-13ba-4ef3-93a0-e561fd485402"
      },
      "execution_count": 89,
      "outputs": [
        {
          "output_type": "execute_result",
          "data": {
            "text/plain": [
              "{'Action',\n",
              " 'Adventure',\n",
              " 'Animation',\n",
              " 'Comedy',\n",
              " 'Crime',\n",
              " 'Documentary',\n",
              " 'Drama',\n",
              " 'Family',\n",
              " 'Fantasy',\n",
              " 'Foreign',\n",
              " 'History',\n",
              " 'Horror',\n",
              " 'Music',\n",
              " 'Mystery',\n",
              " 'Romance',\n",
              " 'Science Fiction',\n",
              " 'TV Movie',\n",
              " 'Thriller',\n",
              " 'War',\n",
              " 'Western'}"
            ]
          },
          "metadata": {},
          "execution_count": 89
        }
      ]
    },
    {
      "cell_type": "code",
      "source": [
        "# Function that counts the number of times each of the genre keywords appear\n",
        "def count_word(dataset, ref_col, census):\n",
        "    keyword_count = dict()\n",
        "    for s in census: \n",
        "        keyword_count[s] = 0\n",
        "    for census_keywords in dataset[ref_col]:        \n",
        "        if type(census_keywords) == float and pd.isnull(census_keywords): \n",
        "            continue        \n",
        "        for s in [s for s in census_keywords if s in census]: \n",
        "            if pd.notnull(s): \n",
        "                keyword_count[s] += 1\n",
        "    #______________________________________________________________________\n",
        "    # convert the dictionary in a list to sort the keywords by frequency\n",
        "    keyword_occurences = []\n",
        "    for k,v in keyword_count.items():\n",
        "        keyword_occurences.append([k,v])\n",
        "    keyword_occurences.sort(key = lambda x:x[1], reverse = True)\n",
        "    return keyword_occurences, keyword_count"
      ],
      "metadata": {
        "id": "0HnsKH0ndyyV"
      },
      "execution_count": 90,
      "outputs": []
    },
    {
      "cell_type": "code",
      "source": [
        "# Calling this function gives access to a list of genre keywords which are sorted by decreasing frequency\n",
        "keyword_occurences, dum = count_word(Movies, 'genres', genre_labels)\n",
        "keyword_occurences[:5]"
      ],
      "metadata": {
        "id": "rCG3leRuflG3",
        "colab": {
          "base_uri": "https://localhost:8080/"
        },
        "outputId": "86d10415-4b5b-4f61-cd26-a07aed51e7cb"
      },
      "execution_count": 91,
      "outputs": [
        {
          "output_type": "execute_result",
          "data": {
            "text/plain": [
              "[['Drama', 2297],\n",
              " ['Comedy', 1722],\n",
              " ['Thriller', 1274],\n",
              " ['Action', 1154],\n",
              " ['Romance', 894]]"
            ]
          },
          "metadata": {},
          "execution_count": 91
        }
      ]
    },
    {
      "cell_type": "code",
      "source": [
        "#Converting genres to a string seperated with commas\n",
        "Movies['Genres'] = [','.join(i) if isinstance(i, list) else i for i in Movies['genres']]"
      ],
      "metadata": {
        "id": "jKlVzCkRfyCW"
      },
      "execution_count": 92,
      "outputs": []
    },
    {
      "cell_type": "code",
      "source": [
        "Movies['Genres'] "
      ],
      "metadata": {
        "id": "HopjWiSyjs0H",
        "colab": {
          "base_uri": "https://localhost:8080/"
        },
        "outputId": "96f4400b-41cf-45ae-e284-a3bd257bf79a"
      },
      "execution_count": 93,
      "outputs": [
        {
          "output_type": "execute_result",
          "data": {
            "text/plain": [
              "0       Action,Adventure,Fantasy,Science Fiction\n",
              "1                       Adventure,Fantasy,Action\n",
              "2                         Action,Adventure,Crime\n",
              "3                    Action,Crime,Drama,Thriller\n",
              "4               Action,Adventure,Science Fiction\n",
              "                          ...                   \n",
              "4798                       Action,Crime,Thriller\n",
              "4799                              Comedy,Romance\n",
              "4800               Comedy,Drama,Romance,TV Movie\n",
              "4801                                            \n",
              "4802                                 Documentary\n",
              "Name: Genres, Length: 4803, dtype: object"
            ]
          },
          "metadata": {},
          "execution_count": 93
        }
      ]
    },
    {
      "cell_type": "code",
      "source": [
        "Movies['genres']"
      ],
      "metadata": {
        "id": "N_-H-CYCju2R",
        "colab": {
          "base_uri": "https://localhost:8080/"
        },
        "outputId": "4c4c2fa3-34fe-4dab-cd69-d24a4ecdf8cd"
      },
      "execution_count": 94,
      "outputs": [
        {
          "output_type": "execute_result",
          "data": {
            "text/plain": [
              "0       [Action, Adventure, Fantasy, Science Fiction]\n",
              "1                        [Adventure, Fantasy, Action]\n",
              "2                          [Action, Adventure, Crime]\n",
              "3                    [Action, Crime, Drama, Thriller]\n",
              "4                [Action, Adventure, Science Fiction]\n",
              "                            ...                      \n",
              "4798                        [Action, Crime, Thriller]\n",
              "4799                                [Comedy, Romance]\n",
              "4800               [Comedy, Drama, Romance, TV Movie]\n",
              "4801                                               []\n",
              "4802                                    [Documentary]\n",
              "Name: genres, Length: 4803, dtype: object"
            ]
          },
          "metadata": {},
          "execution_count": 94
        }
      ]
    },
    {
      "cell_type": "code",
      "source": [
        "Movies['Genres'] = Movies['Genres'].fillna(\"\").astype('str')"
      ],
      "metadata": {
        "id": "3kUJNQfPuI4J"
      },
      "execution_count": 95,
      "outputs": []
    },
    {
      "cell_type": "code",
      "source": [
        "Movies['Genres']"
      ],
      "metadata": {
        "id": "WmrESyOZuju8",
        "colab": {
          "base_uri": "https://localhost:8080/"
        },
        "outputId": "0f6641fd-d8e8-42d3-ee33-3274b2c28c01"
      },
      "execution_count": 96,
      "outputs": [
        {
          "output_type": "execute_result",
          "data": {
            "text/plain": [
              "0       Action,Adventure,Fantasy,Science Fiction\n",
              "1                       Adventure,Fantasy,Action\n",
              "2                         Action,Adventure,Crime\n",
              "3                    Action,Crime,Drama,Thriller\n",
              "4               Action,Adventure,Science Fiction\n",
              "                          ...                   \n",
              "4798                       Action,Crime,Thriller\n",
              "4799                              Comedy,Romance\n",
              "4800               Comedy,Drama,Romance,TV Movie\n",
              "4801                                            \n",
              "4802                                 Documentary\n",
              "Name: Genres, Length: 4803, dtype: object"
            ]
          },
          "metadata": {},
          "execution_count": 96
        }
      ]
    },
    {
      "cell_type": "markdown",
      "source": [
        "Removing all the stop_words which are in english like and,are, in ,on etc and convert it into a vector form"
      ],
      "metadata": {
        "id": "UxjT0lEqtHEb"
      }
    },
    {
      "cell_type": "code",
      "source": [
        "tf = TfidfVectorizer(analyzer='word',ngram_range=(1, 2),min_df=0, stop_words='english')\n",
        "tfidf_matrix = tf.fit_transform(Movies['Genres'])\n",
        "tfidf_matrix"
      ],
      "metadata": {
        "id": "lLUCjwpKul-W",
        "colab": {
          "base_uri": "https://localhost:8080/"
        },
        "outputId": "9a4e33af-9800-408f-cf13-7eb84ec8dc5c"
      },
      "execution_count": 97,
      "outputs": [
        {
          "output_type": "execute_result",
          "data": {
            "text/plain": [
              "<4803x276 sparse matrix of type '<class 'numpy.float64'>'\n",
              "\twith 20631 stored elements in Compressed Sparse Row format>"
            ]
          },
          "metadata": {},
          "execution_count": 97
        }
      ]
    },
    {
      "cell_type": "markdown",
      "source": [
        "Tfid vector matrix"
      ],
      "metadata": {
        "id": "sWHQRhJ-taoj"
      }
    },
    {
      "cell_type": "code",
      "source": [
        "from sklearn.metrics.pairwise import linear_kernel\n",
        "cosine_sim = linear_kernel(tfidf_matrix, tfidf_matrix)\n",
        "cosine_sim[:4, :4]"
      ],
      "metadata": {
        "id": "DcAI4AWZvAS5",
        "colab": {
          "base_uri": "https://localhost:8080/"
        },
        "outputId": "13b47a97-505a-4901-93c6-8e9be025afdf"
      },
      "execution_count": 98,
      "outputs": [
        {
          "output_type": "execute_result",
          "data": {
            "text/plain": [
              "array([[1.        , 0.49309367, 0.29270708, 0.05927115],\n",
              "       [0.49309367, 1.        , 0.17786505, 0.07470562],\n",
              "       [0.29270708, 0.17786505, 1.        , 0.1918586 ],\n",
              "       [0.05927115, 0.07470562, 0.1918586 , 1.        ]])"
            ]
          },
          "metadata": {},
          "execution_count": 98
        }
      ]
    },
    {
      "cell_type": "code",
      "source": [
        "# Build a 1-dimensional array with movie titles\n",
        "titles = Movies['title']\n",
        "indices = pd.Series(Movies.index, index=Movies['title'])"
      ],
      "metadata": {
        "id": "Y9rg8hYEvDsZ"
      },
      "execution_count": 99,
      "outputs": []
    },
    {
      "cell_type": "code",
      "source": [
        "# Function that get movie recommendations based on the cosine similarity score of movie genres\n",
        "def genre_recommendations(movie):\n",
        "    idx = Movies[Movies['title'] == movie].index[0]\n",
        "    # sim_scores = list(enumerate(cosine_sim[idx]))\n",
        "    sim_scores = sorted(list(enumerate(cosine_sim[idx])), key=lambda x: x[1], reverse=True)\n",
        "    for i in sim_scores[1:6]:\n",
        "      print(Movies.iloc[i[0]].title)"
      ],
      "metadata": {
        "id": "dLWGqjgywnve"
      },
      "execution_count": 100,
      "outputs": []
    },
    {
      "cell_type": "code",
      "source": [
        "genre_recommendations('Titanic')"
      ],
      "metadata": {
        "id": "kvH36osiwrDR",
        "colab": {
          "base_uri": "https://localhost:8080/"
        },
        "outputId": "40d74be1-3825-4fbf-85ba-d464a81b908c"
      },
      "execution_count": 101,
      "outputs": [
        {
          "output_type": "stream",
          "name": "stdout",
          "text": [
            "Fifty Shades of Grey\n",
            "Angel Eyes\n",
            "Fatal Attraction\n",
            "Cruel Intentions\n",
            "O\n"
          ]
        }
      ]
    },
    {
      "cell_type": "code",
      "source": [
        "Movies.head()"
      ],
      "metadata": {
        "id": "Gv8zcu6wwwJv",
        "colab": {
          "base_uri": "https://localhost:8080/",
          "height": 773
        },
        "outputId": "7e8dc57d-7176-4978-b9f2-a4161f0ccd9c"
      },
      "execution_count": 102,
      "outputs": [
        {
          "output_type": "execute_result",
          "data": {
            "text/plain": [
              "                                          genres      id  \\\n",
              "0  [Action, Adventure, Fantasy, Science Fiction]   19995   \n",
              "1                   [Adventure, Fantasy, Action]     285   \n",
              "2                     [Action, Adventure, Crime]  206647   \n",
              "3               [Action, Crime, Drama, Thriller]   49026   \n",
              "4           [Action, Adventure, Science Fiction]   49529   \n",
              "\n",
              "                                            keywords  \\\n",
              "0  [{\"id\": 1463, \"name\": \"culture clash\"}, {\"id\":...   \n",
              "1  [{\"id\": 270, \"name\": \"ocean\"}, {\"id\": 726, \"na...   \n",
              "2  [{\"id\": 470, \"name\": \"spy\"}, {\"id\": 818, \"name...   \n",
              "3  [{\"id\": 849, \"name\": \"dc comics\"}, {\"id\": 853,...   \n",
              "4  [{\"id\": 818, \"name\": \"based on novel\"}, {\"id\":...   \n",
              "\n",
              "                                            overview  popularity  \\\n",
              "0  In the 22nd century, a paraplegic Marine is di...  150.437577   \n",
              "1  Captain Barbossa, long believed to be dead, ha...  139.082615   \n",
              "2  A cryptic message from Bond’s past sends him o...  107.376788   \n",
              "3  Following the death of District Attorney Harve...  112.312950   \n",
              "4  John Carter is a war-weary, former military ca...   43.926995   \n",
              "\n",
              "                                          tagline  vote_average  vote_count  \\\n",
              "0                     Enter the World of Pandora.           7.2       11800   \n",
              "1  At the end of the world, the adventure begins.           6.9        4500   \n",
              "2                           A Plan No One Escapes           6.3        4466   \n",
              "3                                 The Legend Ends           7.6        9106   \n",
              "4            Lost in our world, found in another.           6.1        2124   \n",
              "\n",
              "                                                cast  \\\n",
              "0  [{\"cast_id\": 242, \"character\": \"Jake Sully\", \"...   \n",
              "1  [{\"cast_id\": 4, \"character\": \"Captain Jack Spa...   \n",
              "2  [{\"cast_id\": 1, \"character\": \"James Bond\", \"cr...   \n",
              "3  [{\"cast_id\": 2, \"character\": \"Bruce Wayne / Ba...   \n",
              "4  [{\"cast_id\": 5, \"character\": \"John Carter\", \"c...   \n",
              "\n",
              "                                                crew  \\\n",
              "0  [{\"credit_id\": \"52fe48009251416c750aca23\", \"de...   \n",
              "1  [{\"credit_id\": \"52fe4232c3a36847f800b579\", \"de...   \n",
              "2  [{\"credit_id\": \"54805967c3a36829b5002c41\", \"de...   \n",
              "3  [{\"credit_id\": \"52fe4781c3a36847f81398c3\", \"de...   \n",
              "4  [{\"credit_id\": \"52fe479ac3a36847f813eaa3\", \"de...   \n",
              "\n",
              "                                      title  \\\n",
              "0                                    Avatar   \n",
              "1  Pirates of the Caribbean: At World's End   \n",
              "2                                   Spectre   \n",
              "3                     The Dark Knight Rises   \n",
              "4                               John Carter   \n",
              "\n",
              "                                     Genres  \n",
              "0  Action,Adventure,Fantasy,Science Fiction  \n",
              "1                  Adventure,Fantasy,Action  \n",
              "2                    Action,Adventure,Crime  \n",
              "3               Action,Crime,Drama,Thriller  \n",
              "4          Action,Adventure,Science Fiction  "
            ],
            "text/html": [
              "\n",
              "  <div id=\"df-fcd6c416-aff4-4afc-9874-e1bd35dffb6d\">\n",
              "    <div class=\"colab-df-container\">\n",
              "      <div>\n",
              "<style scoped>\n",
              "    .dataframe tbody tr th:only-of-type {\n",
              "        vertical-align: middle;\n",
              "    }\n",
              "\n",
              "    .dataframe tbody tr th {\n",
              "        vertical-align: top;\n",
              "    }\n",
              "\n",
              "    .dataframe thead th {\n",
              "        text-align: right;\n",
              "    }\n",
              "</style>\n",
              "<table border=\"1\" class=\"dataframe\">\n",
              "  <thead>\n",
              "    <tr style=\"text-align: right;\">\n",
              "      <th></th>\n",
              "      <th>genres</th>\n",
              "      <th>id</th>\n",
              "      <th>keywords</th>\n",
              "      <th>overview</th>\n",
              "      <th>popularity</th>\n",
              "      <th>tagline</th>\n",
              "      <th>vote_average</th>\n",
              "      <th>vote_count</th>\n",
              "      <th>cast</th>\n",
              "      <th>crew</th>\n",
              "      <th>title</th>\n",
              "      <th>Genres</th>\n",
              "    </tr>\n",
              "  </thead>\n",
              "  <tbody>\n",
              "    <tr>\n",
              "      <th>0</th>\n",
              "      <td>[Action, Adventure, Fantasy, Science Fiction]</td>\n",
              "      <td>19995</td>\n",
              "      <td>[{\"id\": 1463, \"name\": \"culture clash\"}, {\"id\":...</td>\n",
              "      <td>In the 22nd century, a paraplegic Marine is di...</td>\n",
              "      <td>150.437577</td>\n",
              "      <td>Enter the World of Pandora.</td>\n",
              "      <td>7.2</td>\n",
              "      <td>11800</td>\n",
              "      <td>[{\"cast_id\": 242, \"character\": \"Jake Sully\", \"...</td>\n",
              "      <td>[{\"credit_id\": \"52fe48009251416c750aca23\", \"de...</td>\n",
              "      <td>Avatar</td>\n",
              "      <td>Action,Adventure,Fantasy,Science Fiction</td>\n",
              "    </tr>\n",
              "    <tr>\n",
              "      <th>1</th>\n",
              "      <td>[Adventure, Fantasy, Action]</td>\n",
              "      <td>285</td>\n",
              "      <td>[{\"id\": 270, \"name\": \"ocean\"}, {\"id\": 726, \"na...</td>\n",
              "      <td>Captain Barbossa, long believed to be dead, ha...</td>\n",
              "      <td>139.082615</td>\n",
              "      <td>At the end of the world, the adventure begins.</td>\n",
              "      <td>6.9</td>\n",
              "      <td>4500</td>\n",
              "      <td>[{\"cast_id\": 4, \"character\": \"Captain Jack Spa...</td>\n",
              "      <td>[{\"credit_id\": \"52fe4232c3a36847f800b579\", \"de...</td>\n",
              "      <td>Pirates of the Caribbean: At World's End</td>\n",
              "      <td>Adventure,Fantasy,Action</td>\n",
              "    </tr>\n",
              "    <tr>\n",
              "      <th>2</th>\n",
              "      <td>[Action, Adventure, Crime]</td>\n",
              "      <td>206647</td>\n",
              "      <td>[{\"id\": 470, \"name\": \"spy\"}, {\"id\": 818, \"name...</td>\n",
              "      <td>A cryptic message from Bond’s past sends him o...</td>\n",
              "      <td>107.376788</td>\n",
              "      <td>A Plan No One Escapes</td>\n",
              "      <td>6.3</td>\n",
              "      <td>4466</td>\n",
              "      <td>[{\"cast_id\": 1, \"character\": \"James Bond\", \"cr...</td>\n",
              "      <td>[{\"credit_id\": \"54805967c3a36829b5002c41\", \"de...</td>\n",
              "      <td>Spectre</td>\n",
              "      <td>Action,Adventure,Crime</td>\n",
              "    </tr>\n",
              "    <tr>\n",
              "      <th>3</th>\n",
              "      <td>[Action, Crime, Drama, Thriller]</td>\n",
              "      <td>49026</td>\n",
              "      <td>[{\"id\": 849, \"name\": \"dc comics\"}, {\"id\": 853,...</td>\n",
              "      <td>Following the death of District Attorney Harve...</td>\n",
              "      <td>112.312950</td>\n",
              "      <td>The Legend Ends</td>\n",
              "      <td>7.6</td>\n",
              "      <td>9106</td>\n",
              "      <td>[{\"cast_id\": 2, \"character\": \"Bruce Wayne / Ba...</td>\n",
              "      <td>[{\"credit_id\": \"52fe4781c3a36847f81398c3\", \"de...</td>\n",
              "      <td>The Dark Knight Rises</td>\n",
              "      <td>Action,Crime,Drama,Thriller</td>\n",
              "    </tr>\n",
              "    <tr>\n",
              "      <th>4</th>\n",
              "      <td>[Action, Adventure, Science Fiction]</td>\n",
              "      <td>49529</td>\n",
              "      <td>[{\"id\": 818, \"name\": \"based on novel\"}, {\"id\":...</td>\n",
              "      <td>John Carter is a war-weary, former military ca...</td>\n",
              "      <td>43.926995</td>\n",
              "      <td>Lost in our world, found in another.</td>\n",
              "      <td>6.1</td>\n",
              "      <td>2124</td>\n",
              "      <td>[{\"cast_id\": 5, \"character\": \"John Carter\", \"c...</td>\n",
              "      <td>[{\"credit_id\": \"52fe479ac3a36847f813eaa3\", \"de...</td>\n",
              "      <td>John Carter</td>\n",
              "      <td>Action,Adventure,Science Fiction</td>\n",
              "    </tr>\n",
              "  </tbody>\n",
              "</table>\n",
              "</div>\n",
              "      <button class=\"colab-df-convert\" onclick=\"convertToInteractive('df-fcd6c416-aff4-4afc-9874-e1bd35dffb6d')\"\n",
              "              title=\"Convert this dataframe to an interactive table.\"\n",
              "              style=\"display:none;\">\n",
              "        \n",
              "  <svg xmlns=\"http://www.w3.org/2000/svg\" height=\"24px\"viewBox=\"0 0 24 24\"\n",
              "       width=\"24px\">\n",
              "    <path d=\"M0 0h24v24H0V0z\" fill=\"none\"/>\n",
              "    <path d=\"M18.56 5.44l.94 2.06.94-2.06 2.06-.94-2.06-.94-.94-2.06-.94 2.06-2.06.94zm-11 1L8.5 8.5l.94-2.06 2.06-.94-2.06-.94L8.5 2.5l-.94 2.06-2.06.94zm10 10l.94 2.06.94-2.06 2.06-.94-2.06-.94-.94-2.06-.94 2.06-2.06.94z\"/><path d=\"M17.41 7.96l-1.37-1.37c-.4-.4-.92-.59-1.43-.59-.52 0-1.04.2-1.43.59L10.3 9.45l-7.72 7.72c-.78.78-.78 2.05 0 2.83L4 21.41c.39.39.9.59 1.41.59.51 0 1.02-.2 1.41-.59l7.78-7.78 2.81-2.81c.8-.78.8-2.07 0-2.86zM5.41 20L4 18.59l7.72-7.72 1.47 1.35L5.41 20z\"/>\n",
              "  </svg>\n",
              "      </button>\n",
              "      \n",
              "  <style>\n",
              "    .colab-df-container {\n",
              "      display:flex;\n",
              "      flex-wrap:wrap;\n",
              "      gap: 12px;\n",
              "    }\n",
              "\n",
              "    .colab-df-convert {\n",
              "      background-color: #E8F0FE;\n",
              "      border: none;\n",
              "      border-radius: 50%;\n",
              "      cursor: pointer;\n",
              "      display: none;\n",
              "      fill: #1967D2;\n",
              "      height: 32px;\n",
              "      padding: 0 0 0 0;\n",
              "      width: 32px;\n",
              "    }\n",
              "\n",
              "    .colab-df-convert:hover {\n",
              "      background-color: #E2EBFA;\n",
              "      box-shadow: 0px 1px 2px rgba(60, 64, 67, 0.3), 0px 1px 3px 1px rgba(60, 64, 67, 0.15);\n",
              "      fill: #174EA6;\n",
              "    }\n",
              "\n",
              "    [theme=dark] .colab-df-convert {\n",
              "      background-color: #3B4455;\n",
              "      fill: #D2E3FC;\n",
              "    }\n",
              "\n",
              "    [theme=dark] .colab-df-convert:hover {\n",
              "      background-color: #434B5C;\n",
              "      box-shadow: 0px 1px 3px 1px rgba(0, 0, 0, 0.15);\n",
              "      filter: drop-shadow(0px 1px 2px rgba(0, 0, 0, 0.3));\n",
              "      fill: #FFFFFF;\n",
              "    }\n",
              "  </style>\n",
              "\n",
              "      <script>\n",
              "        const buttonEl =\n",
              "          document.querySelector('#df-fcd6c416-aff4-4afc-9874-e1bd35dffb6d button.colab-df-convert');\n",
              "        buttonEl.style.display =\n",
              "          google.colab.kernel.accessAllowed ? 'block' : 'none';\n",
              "\n",
              "        async function convertToInteractive(key) {\n",
              "          const element = document.querySelector('#df-fcd6c416-aff4-4afc-9874-e1bd35dffb6d');\n",
              "          const dataTable =\n",
              "            await google.colab.kernel.invokeFunction('convertToInteractive',\n",
              "                                                     [key], {});\n",
              "          if (!dataTable) return;\n",
              "\n",
              "          const docLinkHtml = 'Like what you see? Visit the ' +\n",
              "            '<a target=\"_blank\" href=https://colab.research.google.com/notebooks/data_table.ipynb>data table notebook</a>'\n",
              "            + ' to learn more about interactive tables.';\n",
              "          element.innerHTML = '';\n",
              "          dataTable['output_type'] = 'display_data';\n",
              "          await google.colab.output.renderOutput(dataTable, element);\n",
              "          const docLink = document.createElement('div');\n",
              "          docLink.innerHTML = docLinkHtml;\n",
              "          element.appendChild(docLink);\n",
              "        }\n",
              "      </script>\n",
              "    </div>\n",
              "  </div>\n",
              "  "
            ]
          },
          "metadata": {},
          "execution_count": 102
        }
      ]
    },
    {
      "cell_type": "markdown",
      "source": [
        "Fectching the director names from the crew and making into a list"
      ],
      "metadata": {
        "id": "CniPWtWRtoiJ"
      }
    },
    {
      "cell_type": "code",
      "source": [
        "def fetch_director(text):\n",
        "    List = []\n",
        "    for i in ast.literal_eval(text):\n",
        "        if i['job'] == 'Director':\n",
        "            List.append(i['name'])\n",
        "    return List"
      ],
      "metadata": {
        "id": "w-jIsw9rxv_W"
      },
      "execution_count": 103,
      "outputs": []
    },
    {
      "cell_type": "code",
      "source": [
        "Movies['director'] = Movies['crew'].apply(fetch_director)"
      ],
      "metadata": {
        "id": "l-WHAvqmML8-"
      },
      "execution_count": 104,
      "outputs": []
    },
    {
      "cell_type": "markdown",
      "source": [
        "Taking the first 5 names from the dictionary and converting them into a list"
      ],
      "metadata": {
        "id": "B_sjSH36trxO"
      }
    },
    {
      "cell_type": "code",
      "source": [
        "def convert5ToList(text):\n",
        "    List = []\n",
        "    count = 0\n",
        "    for i in ast.literal_eval(text):\n",
        "        if count < 5:\n",
        "            List.append(i['name'])\n",
        "        count+=1\n",
        "    return List "
      ],
      "metadata": {
        "id": "rfqxWb6CMO_L"
      },
      "execution_count": 105,
      "outputs": []
    },
    {
      "cell_type": "code",
      "source": [
        "#Converting the cast which is in the dictionary to list\n",
        "Movies['cast'] = Movies['cast'].apply(convert5ToList)\n",
        "Movies['cast'] = Movies['cast'].apply(lambda x:x[0:5])"
      ],
      "metadata": {
        "id": "Wgr2GLRmMaGJ"
      },
      "execution_count": 106,
      "outputs": []
    },
    {
      "cell_type": "code",
      "source": [
        "#If the overview column is empty treat it as empty string\n",
        "Movies['overview'] = Movies['overview'].fillna('')"
      ],
      "metadata": {
        "id": "0V5espfFMdch"
      },
      "execution_count": 107,
      "outputs": []
    },
    {
      "cell_type": "code",
      "source": [
        "Movies['overview'] = Movies['overview'].apply(lambda x:x.split())"
      ],
      "metadata": {
        "id": "LjcuV6GCMgh6"
      },
      "execution_count": 108,
      "outputs": []
    },
    {
      "cell_type": "code",
      "source": [
        "#Converting keywords to list\n",
        "Movies['keywords'] = Movies['keywords'].apply(convertToList)"
      ],
      "metadata": {
        "id": "qQCtXYUbMkOL"
      },
      "execution_count": 109,
      "outputs": []
    },
    {
      "cell_type": "markdown",
      "source": [
        "Removing spaces between the strings to make into a single word"
      ],
      "metadata": {
        "id": "_4z1ureA1m-E"
      }
    },
    {
      "cell_type": "code",
      "source": [
        "def collapse(L):\n",
        "    L1 = []\n",
        "    for i in L:\n",
        "        L1.append(i.replace(\" \",\"\"))\n",
        "    return L1"
      ],
      "metadata": {
        "id": "roCbI0ZvMncy"
      },
      "execution_count": 110,
      "outputs": []
    },
    {
      "cell_type": "code",
      "source": [
        "Movies['cast'] = Movies['cast'].apply(collapse)\n",
        "Movies['director'] = Movies['director'].apply(collapse)\n",
        "Movies['genres'] = Movies['genres'].apply(collapse)\n",
        "Movies['keywords'] = Movies['keywords'].apply(collapse)"
      ],
      "metadata": {
        "id": "DCduIJYTMqai"
      },
      "execution_count": 111,
      "outputs": []
    },
    {
      "cell_type": "markdown",
      "source": [
        "Combining all the columns to make a column named 'tags'"
      ],
      "metadata": {
        "id": "egAOd6dc2CB8"
      }
    },
    {
      "cell_type": "code",
      "source": [
        "Movies['tags'] = Movies['overview'] + Movies['genres'] + Movies['keywords'] + Movies['cast'] + Movies['director']"
      ],
      "metadata": {
        "id": "gTJKeMsuMtQ2"
      },
      "execution_count": 112,
      "outputs": []
    },
    {
      "cell_type": "code",
      "source": [
        "Movies['tags'] = Movies['tags'].apply(lambda x: \" \".join(x))"
      ],
      "metadata": {
        "id": "uRhgaXqVMxdH"
      },
      "execution_count": 113,
      "outputs": []
    },
    {
      "cell_type": "code",
      "source": [
        "#Creating a PorterStemmer object\n",
        "ps =PorterStemmer()"
      ],
      "metadata": {
        "id": "t4LEiYvBM3Gp"
      },
      "execution_count": 114,
      "outputs": []
    },
    {
      "cell_type": "code",
      "source": [
        "#Convert string to list and making all the similar words as a single word\n",
        "#Ex: dancing,danced,dance all are considered as a similar single word\n",
        "def Stem(text):\n",
        "  L=[]\n",
        "  for i in text.split():\n",
        "    L.append(ps.stem(i))\n",
        "\n",
        "  return \" \".join(L)"
      ],
      "metadata": {
        "id": "Akrn4N7qM7KB"
      },
      "execution_count": 115,
      "outputs": []
    },
    {
      "cell_type": "code",
      "source": [
        "Movies['tags']=Movies['tags'].apply(Stem)"
      ],
      "metadata": {
        "id": "o7EmGp2mM-Se"
      },
      "execution_count": 116,
      "outputs": []
    },
    {
      "cell_type": "code",
      "source": [
        "cv = CountVectorizer(max_features=5000,stop_words='english')"
      ],
      "metadata": {
        "id": "ISstVDrANA9x"
      },
      "execution_count": 117,
      "outputs": []
    },
    {
      "cell_type": "markdown",
      "source": [
        "onverting the tags to vectors"
      ],
      "metadata": {
        "id": "kyAH924K3glG"
      }
    },
    {
      "cell_type": "code",
      "source": [
        "vector = cv.fit_transform(Movies['tags']).toarray()"
      ],
      "metadata": {
        "id": "EvDxSIcRNDuu"
      },
      "execution_count": 118,
      "outputs": []
    },
    {
      "cell_type": "markdown",
      "source": [
        "Calculating the vector distances of every movie from every other movie"
      ],
      "metadata": {
        "id": "hOG742PW4B20"
      }
    },
    {
      "cell_type": "code",
      "source": [
        "similarity_by_movie = cosine_similarity(vector)"
      ],
      "metadata": {
        "id": "v0OpEBPBNGwm"
      },
      "execution_count": 119,
      "outputs": []
    },
    {
      "cell_type": "code",
      "source": [
        "similarity_by_movie.shape"
      ],
      "metadata": {
        "colab": {
          "base_uri": "https://localhost:8080/"
        },
        "id": "Al4KYza8NLpw",
        "outputId": "383d5d3e-014a-49a8-f9a7-3f379f86c787"
      },
      "execution_count": 120,
      "outputs": [
        {
          "output_type": "execute_result",
          "data": {
            "text/plain": [
              "(4803, 4803)"
            ]
          },
          "metadata": {},
          "execution_count": 120
        }
      ]
    },
    {
      "cell_type": "code",
      "source": [
        "#Function for recommending movies(given the movie title)\n",
        "def recommend(movie):\n",
        "    index = Movies[Movies['title'] == movie].index[0]\n",
        "    distances = sorted(list(enumerate(similarity_by_movie[index])),reverse=True,key = lambda x: x[1])\n",
        "    for i in distances[1:6]:\n",
        "        print(Movies.iloc[i[0]].title)"
      ],
      "metadata": {
        "id": "tK1UDo6WNPu9"
      },
      "execution_count": 121,
      "outputs": []
    },
    {
      "cell_type": "code",
      "source": [
        "recommend('Avatar')"
      ],
      "metadata": {
        "colab": {
          "base_uri": "https://localhost:8080/"
        },
        "id": "KKaPiaQQNTK1",
        "outputId": "8bacfea5-0bd1-474c-dd8b-64604f3808e8"
      },
      "execution_count": 122,
      "outputs": [
        {
          "output_type": "stream",
          "name": "stdout",
          "text": [
            "Aliens vs Predator: Requiem\n",
            "Aliens\n",
            "Independence Day\n",
            "Falcon Rising\n",
            "Battle: Los Angeles\n"
          ]
        }
      ]
    },
    {
      "cell_type": "code",
      "source": [
        "recommend('Titanic')"
      ],
      "metadata": {
        "colab": {
          "base_uri": "https://localhost:8080/"
        },
        "id": "MHP0OW_eNWbO",
        "outputId": "c719a08e-e445-4c88-970d-38fd352de94a"
      },
      "execution_count": 123,
      "outputs": [
        {
          "output_type": "stream",
          "name": "stdout",
          "text": [
            "The Notebook\n",
            "Under the Same Moon\n",
            "Ghost Ship\n",
            "The Bounty\n",
            "Pirates of the Caribbean: On Stranger Tides\n"
          ]
        }
      ]
    },
    {
      "cell_type": "markdown",
      "source": [
        "Dumping the data frames to .pkl files"
      ],
      "metadata": {
        "id": "mwbf9U5X4fFd"
      }
    },
    {
      "cell_type": "code",
      "source": [
        "pickle.dump(Movies.to_dict(), open('movies_dict.pkl','wb'))"
      ],
      "metadata": {
        "id": "aU2Y4WSYPUoG"
      },
      "execution_count": 124,
      "outputs": []
    },
    {
      "cell_type": "code",
      "source": [
        "pickle.dump(similarity_by_movie,open('similarity_by_movie.pkl','wb'))"
      ],
      "metadata": {
        "id": "I91Lf5AISgZm"
      },
      "execution_count": 125,
      "outputs": []
    },
    {
      "cell_type": "code",
      "source": [
        "pickle.dump(cosine_sim,open('similarity_by_genre.pkl','wb'))"
      ],
      "metadata": {
        "id": "9l1zYbLESlGO"
      },
      "execution_count": 126,
      "outputs": []
    }
  ]
}